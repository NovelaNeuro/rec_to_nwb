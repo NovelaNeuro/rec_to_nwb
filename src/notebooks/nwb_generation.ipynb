{
 "cells": [
  {
   "cell_type": "markdown",
   "metadata": {},
   "source": [
    "#  NWB File generation from raw data"
   ]
  },
  {
   "cell_type": "code",
   "execution_count": 17,
   "metadata": {},
   "outputs": [],
   "source": [
    "%reload_ext autoreload\n",
    "%autoreload 2"
   ]
  },
  {
   "cell_type": "code",
   "execution_count": 18,
   "metadata": {},
   "outputs": [],
   "source": [
    "import os\n",
    "import logging\n",
    "import sys\n",
    "sys.path.append(\"../../\")\n",
    "from src.datamigration.nwb_file_builder import NWBFileBuilder\n",
    "from src.test.e2etests.experiment_data import ExperimentData\n",
    "from rec_to_binaries import extract_trodes_rec_file\n",
    "from src.datamigration.nwb_builder.nwb_metadata import NWBMetadata\n",
    "from src.datamigration.raw_to_nwb_builder import RawToNWBBuilder\n"
   ]
  },
  {
   "cell_type": "markdown",
   "metadata": {},
   "source": [
    "## Current dir and file structure before running extraction"
   ]
  },
  {
   "cell_type": "code",
   "execution_count": 19,
   "metadata": {},
   "outputs": [
    {
     "name": "stdout",
     "output_type": "stream",
     "text": [
      "/Users/marcin/Novela/GitHub/LorenFranksDataMigration/src/notebooks\n"
     ]
    }
   ],
   "source": [
    "print(os.getcwd())\n"
   ]
  },
  {
   "cell_type": "markdown",
   "metadata": {},
   "source": [
    "## Setup your config parameters"
   ]
  },
  {
   "cell_type": "code",
   "execution_count": 20,
   "metadata": {},
   "outputs": [],
   "source": [
    "builder = RawToNWBBuilder(animal_name='beans',\n",
    "                                       data_path='../test/test_data/',\n",
    "                                       date='20190718',\n",
    "                                       nwb_metadata=NWBMetadata('../test/datamigration/res/metadata.yml',\n",
    "                                                                ['../test/datamigration/res/probe1.yml',\n",
    "                                                                 '../test/datamigration/res/probe2.yml',\n",
    "                                                                 '../test/datamigration/res/probe3.yml'\n",
    "                                                                 ]),\n",
    "                                       output_path='raw2nwb_output.nwb'\n",
    "                                       )"
   ]
  },
  {
   "cell_type": "markdown",
   "metadata": {},
   "source": [
    "## Build the nwb content"
   ]
  },
  {
   "cell_type": "code",
   "execution_count": 21,
   "metadata": {},
   "outputs": [
    {
     "name": "stderr",
     "output_type": "stream",
     "text": [
      "/Users/marcin/opt/anaconda3/envs/LorenFranksDataMigration/lib/python3.7/site-packages/rec_to_binaries/trodes_data.py:1362: TrodesDataFormatWarning: TrodesDataFormatError('skipping rec file 20190718_beans_01_s1.rec for extracting, folder ../test/test_data/beans/preprocessing/20190718/20190718_beans_01_s1.DIO already exists and overwrite=False.') (thrown from /Users/marcin/opt/anaconda3/envs/LorenFranksDataMigration/lib/python3.7/site-packages/rec_to_binaries/trodes_data.py:1303)\n",
      "  TrodesDataFormatWarning)\n",
      "/Users/marcin/opt/anaconda3/envs/LorenFranksDataMigration/lib/python3.7/site-packages/rec_to_binaries/trodes_data.py:1362: TrodesDataFormatWarning: TrodesDataFormatError('skipping rec file 20190718_beans_01_s1.rec for extracting, folder ../test/test_data/beans/preprocessing/20190718/20190718_beans_01_s1.LFP already exists and overwrite=False.') (thrown from /Users/marcin/opt/anaconda3/envs/LorenFranksDataMigration/lib/python3.7/site-packages/rec_to_binaries/trodes_data.py:1303)\n",
      "  TrodesDataFormatWarning)\n",
      "/Users/marcin/opt/anaconda3/envs/LorenFranksDataMigration/lib/python3.7/site-packages/rec_to_binaries/trodes_data.py:1362: TrodesDataFormatWarning: TrodesDataFormatError('skipping rec file 20190718_beans_01_s1.rec for extracting, folder ../test/test_data/beans/preprocessing/20190718/20190718_beans_01_s1.mda already exists and overwrite=False.') (thrown from /Users/marcin/opt/anaconda3/envs/LorenFranksDataMigration/lib/python3.7/site-packages/rec_to_binaries/trodes_data.py:1303)\n",
      "  TrodesDataFormatWarning)\n",
      "/Users/marcin/opt/anaconda3/envs/LorenFranksDataMigration/lib/python3.7/site-packages/rec_to_binaries/trodes_data.py:1362: TrodesDataFormatWarning: TrodesDataFormatError('skipping rec file 20190718_beans_01_s1.rec for extracting, folder ../test/test_data/beans/preprocessing/20190718/20190718_beans_01_s1.spikes already exists and overwrite=False.') (thrown from /Users/marcin/opt/anaconda3/envs/LorenFranksDataMigration/lib/python3.7/site-packages/rec_to_binaries/trodes_data.py:1303)\n",
      "  TrodesDataFormatWarning)\n",
      "/Users/marcin/opt/anaconda3/envs/LorenFranksDataMigration/lib/python3.7/site-packages/rec_to_binaries/trodes_data.py:1362: TrodesDataFormatWarning: TrodesDataFormatError('skipping rec file 20190718_beans_01_s1.rec for extracting, folder ../test/test_data/beans/preprocessing/20190718/20190718_beans_01_s1.time already exists and overwrite=False.') (thrown from /Users/marcin/opt/anaconda3/envs/LorenFranksDataMigration/lib/python3.7/site-packages/rec_to_binaries/trodes_data.py:1303)\n",
      "  TrodesDataFormatWarning)\n"
     ]
    },
    {
     "name": "stdout",
     "output_type": "stream",
     "text": [
      "[['../test/test_data/beans/preprocessing/20190718/20190718_beans_01_s1.1.pos/20190718_beans_01_s1.1.pos_online.dat']]\n",
      "root pynwb.file.NWBFile at 0x4748776720\n",
      "Fields:\n",
      "  devices: {\n",
      "    1 <class 'src.datamigration.extension.probe.Probe'>,\n",
      "    2 <class 'src.datamigration.extension.probe.Probe'>,\n",
      "    3 <class 'src.datamigration.extension.probe.Probe'>\n",
      "  }\n",
      "  electrode_groups: {\n",
      "    electrode group 0 <class 'src.datamigration.extension.fl_electrode_group.FLElectrodeGroup'>,\n",
      "    electrode group 1 <class 'src.datamigration.extension.fl_electrode_group.FLElectrodeGroup'>,\n",
      "    electrode group 3 <class 'src.datamigration.extension.fl_electrode_group.FLElectrodeGroup'>,\n",
      "    electrode group 4 <class 'src.datamigration.extension.fl_electrode_group.FLElectrodeGroup'>,\n",
      "    electrode group 5 <class 'src.datamigration.extension.fl_electrode_group.FLElectrodeGroup'>,\n",
      "    electrode group 6 <class 'src.datamigration.extension.fl_electrode_group.FLElectrodeGroup'>,\n",
      "    electrode group 7 <class 'src.datamigration.extension.fl_electrode_group.FLElectrodeGroup'>,\n",
      "    ntrode 1 <class 'src.datamigration.extension.ntrode.NTrode'>,\n",
      "    ntrode 2 <class 'src.datamigration.extension.ntrode.NTrode'>,\n",
      "    ntrode 3 <class 'src.datamigration.extension.ntrode.NTrode'>,\n",
      "    ntrode 4 <class 'src.datamigration.extension.ntrode.NTrode'>,\n",
      "    ntrode 5 <class 'src.datamigration.extension.ntrode.NTrode'>,\n",
      "    ntrode 6 <class 'src.datamigration.extension.ntrode.NTrode'>,\n",
      "    ntrode 7 <class 'src.datamigration.extension.ntrode.NTrode'>,\n",
      "    ntrode 8 <class 'src.datamigration.extension.ntrode.NTrode'>\n",
      "  }\n",
      "  experiment_description: Reinforcement learning\n",
      "  experimenter: Alison Comrie\n",
      "  file_create_date: [datetime.datetime(2020, 1, 14, 13, 41, 14, 185124, tzinfo=tzlocal())]\n",
      "  identifier: Necessary identifier\n",
      "  institution: University of California, San Francisco\n",
      "  lab: Loren Frank\n",
      "  processing: {\n",
      "    apparatus <class 'pynwb.base.ProcessingModule'>,\n",
      "    behavioral_event <class 'pynwb.base.ProcessingModule'>,\n",
      "    position <class 'pynwb.base.ProcessingModule'>,\n",
      "    task <class 'pynwb.base.ProcessingModule'>\n",
      "  }\n",
      "  session_description: Reinforcement leaarning\n",
      "  session_start_time: 2019-07-18 20:15:30+02:00\n",
      "  subject: subject pynwb.file.Subject at 0x4762680336\n",
      "Fields:\n",
      "  description: Long Evans Rat\n",
      "  genotype: Wild Type\n",
      "  sex: Male\n",
      "  species: Rat\n",
      "  subject_id: Beans\n",
      "  weight: Unknown\n",
      "\n",
      "  timestamps_reference_time: 2019-07-18 20:15:30+02:00\n",
      "\n",
      "CPU times: user 1.74 s, sys: 24 ms, total: 1.76 s\n",
      "Wall time: 1.77 s\n"
     ]
    }
   ],
   "source": [
    "%%time\n",
    "content = builder.build_nwb()\n",
    "print(content)\n",
    "#expected warnings from rec_to_binaries"
   ]
  },
  {
   "cell_type": "markdown",
   "metadata": {},
   "source": [
    "# Cleanup preprocessed data"
   ]
  },
  {
   "cell_type": "code",
   "execution_count": 22,
   "metadata": {},
   "outputs": [],
   "source": [
    "builder.cleanup()"
   ]
  },
  {
   "cell_type": "code",
   "execution_count": null,
   "metadata": {},
   "outputs": [],
   "source": []
  }
 ],
 "metadata": {
  "kernelspec": {
   "display_name": "Python [conda env:LorenFranksDataMigration]",
   "language": "python",
   "name": "conda-env-LorenFranksDataMigration-py"
  },
  "language_info": {
   "codemirror_mode": {
    "name": "ipython",
    "version": 3
   },
   "file_extension": ".py",
   "mimetype": "text/x-python",
   "name": "python",
   "nbconvert_exporter": "python",
   "pygments_lexer": "ipython3",
   "version": "3.7.4"
  }
 },
 "nbformat": 4,
 "nbformat_minor": 2
}
