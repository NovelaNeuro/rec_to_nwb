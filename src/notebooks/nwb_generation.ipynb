{
 "cells": [
  {
   "cell_type": "markdown",
   "metadata": {},
   "source": [
    "#  NWB File generation from preprocessed data"
   ]
  },
  {
   "cell_type": "code",
   "execution_count": 17,
   "metadata": {},
   "outputs": [],
   "source": [
    "%reload_ext autoreload\n",
    "%autoreload 2"
   ]
  },
  {
   "cell_type": "code",
   "execution_count": 18,
   "metadata": {},
   "outputs": [],
   "source": [
    "import os\n",
    "import logging\n",
    "import sys\n",
    "sys.path.append(\"../../\")\n",
    "from src.datamigration.nwb_file_builder import NWBFileBuilder\n",
    "from src.test.e2etests.experiment_data import ExperimentData\n",
    "from rec_to_binaries import extract_trodes_rec_file\n",
    "from src.datamigration.raw_to_nwb_builder import RawToNWBBuilder\n"
   ]
  },
  {
   "cell_type": "markdown",
   "metadata": {},
   "source": [
    "## Current dir and file structure before running extraction"
   ]
  },
  {
   "cell_type": "code",
   "execution_count": 19,
   "metadata": {},
   "outputs": [
    {
     "name": "stdout",
     "output_type": "stream",
     "text": [
      "/Users/marcin/Novela/GitHub/LorenFranksDataMigration/src/notebooks\n"
     ]
    }
   ],
   "source": [
    "print(os.getcwd())\n"
   ]
  },
  {
   "cell_type": "markdown",
   "metadata": {},
   "source": [
    "## Setup your data parameters"
   ]
  },
  {
   "cell_type": "code",
   "execution_count": 20,
   "metadata": {},
   "outputs": [],
   "source": [
    "builder = RawToNWBBuilder(animal_name='beans',\n",
    "                                       data_path='../test/test_data/',\n",
    "                                       date='20190718',\n",
    "                                       metadata_path='../test/res/metadata.yml',\n",
    "                                       output_path='raw2nwb_output.nwb'\n",
    "                                       )"
   ]
  },
  {
   "cell_type": "markdown",
   "metadata": {},
   "source": [
    "## Build the nwb content"
   ]
  },
  {
   "cell_type": "code",
   "execution_count": null,
   "metadata": {},
   "outputs": [
    {
     "name": "stderr",
     "output_type": "stream",
     "text": [
      "/Users/marcin/opt/anaconda3/envs/LorenFranksDataMigration/lib/python3.7/site-packages/rec_to_binaries/trodes_data.py:601: TrodesDataFormatWarning: anim path (../test/test_data/beans/preprocessing) does not exist.\n",
      "  anim_path)), TrodesDataFormatWarning)\n"
     ]
    },
    {
     "name": "stdout",
     "output_type": "stream",
     "text": [
      "(ID: 0) Running exportdio on animal beans date 20190718 epoch 01\n",
      "(ID: 0) Full command: ['exportdio', '-rec', '../test/test_data/beans/raw/20190718/20190718_beans_01_s1.rec', '-outputdirectory', '../test/test_data/beans/preprocessing/20190718', '-output', '20190718_beans_01_s1']\n",
      "(ID: 0) Done running ['exportdio', '-rec', '../test/test_data/beans/raw/20190718/20190718_beans_01_s1.rec', '-outputdirectory', '../test/test_data/beans/preprocessing/20190718', '-output', '20190718_beans_01_s1']\n",
      "(ID: 0) Exporting DIO data...\n",
      "(ID: 0) 0 %\n",
      "(ID: 0) 5 %\n",
      "(ID: 0) 10 %\n",
      "(ID: 0) 15 %\n",
      "(ID: 0) 20 %\n",
      "(ID: 0) 25 %\n",
      "(ID: 0) 30 %\n",
      "(ID: 0) 35 %\n",
      "(ID: 0) 39 %\n",
      "(ID: 0) 45 %\n",
      "(ID: 0) 50 %\n",
      "(ID: 0) 54 %\n",
      "(ID: 0) 60 %\n",
      "(ID: 0) 65 %\n",
      "(ID: 0) 69 %\n",
      "(ID: 0) 75 %\n",
      "(ID: 0) 80 %\n",
      "(ID: 0) 84 %\n",
      "(ID: 0) 90 %\n",
      "(ID: 0) 95 %\n",
      "(ID: 0) \n",
      "(ID: 0) Done\n",
      "(ID: 0) Running exportLFP on animal beans date 20190718 epoch 01\n",
      "(ID: 0) Full command: ['exportLFP', '-rec', '../test/test_data/beans/raw/20190718/20190718_beans_01_s1.rec', '-outputdirectory', '../test/test_data/beans/preprocessing/20190718', '-output', '20190718_beans_01_s1', '-highpass', '0', '-lowpass', '400', '-interp', '0', '-userefs', '0', '-outputrate', '1500']\n"
     ]
    }
   ],
   "source": [
    "%%time\n",
    "content = builder.build_nwb()\n",
    "print(content)\n",
    "#expected warnings from rec_to_binaries"
   ]
  },
  {
   "cell_type": "code",
   "execution_count": 16,
   "metadata": {},
   "outputs": [],
   "source": [
    "\n",
    "builder.cleanup()"
   ]
  },
  {
   "cell_type": "code",
   "execution_count": null,
   "metadata": {},
   "outputs": [],
   "source": []
  }
 ],
 "metadata": {
  "kernelspec": {
   "display_name": "Python [conda env:LorenFranksDataMigration]",
   "language": "python",
   "name": "conda-env-LorenFranksDataMigration-py"
  },
  "language_info": {
   "codemirror_mode": {
    "name": "ipython",
    "version": 3
   },
   "file_extension": ".py",
   "mimetype": "text/x-python",
   "name": "python",
   "nbconvert_exporter": "python",
   "pygments_lexer": "ipython3",
   "version": "3.7.4"
  }
 },
 "nbformat": 4,
 "nbformat_minor": 2
}
