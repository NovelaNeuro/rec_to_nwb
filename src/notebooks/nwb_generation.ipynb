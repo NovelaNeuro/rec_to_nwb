{
 "cells": [
  {
   "cell_type": "markdown",
   "metadata": {},
   "source": [
    "#  NWB File generation from preprocessed dataset"
   ]
  },
  {
   "cell_type": "code",
   "execution_count": 1,
   "metadata": {},
   "outputs": [],
   "source": [
    "%reload_ext autoreload\n",
    "%autoreload 2"
   ]
  },
  {
   "cell_type": "code",
   "execution_count": 2,
   "metadata": {},
   "outputs": [],
   "source": [
    "import os\n",
    "import logging\n",
    "import sys\n",
    "sys.path.append(\"../../\")\n",
    "from src.datamigration.nwb_file_builder import NWBFileBuilder\n",
    "from src.test.e2etests.experiment_data import ExperimentData\n",
    "from rec_to_binaries import extract_trodes_rec_file\n",
    "\n"
   ]
  },
  {
   "cell_type": "markdown",
   "metadata": {},
   "source": [
    "## Current dir and file structure before running extraction"
   ]
  },
  {
   "cell_type": "code",
   "execution_count": 3,
   "metadata": {},
   "outputs": [
    {
     "name": "stdout",
     "output_type": "stream",
     "text": [
      "C:\\Workspace\\Python\\LorenFranksDataMigration\\src\\notebooks\n",
      "Folder PATH listing for volume OS\n",
      "Volume serial number is 1C5A-F631\n",
      "C:\\WORKSPACE\\PYTHON\\LORENFRANKSDATAMIGRATION\\SRC\\TEST\\TEST_DATA\n",
      "ÀÄÄÄbeans\n",
      "    ÃÄÄÄpreprocessing\n",
      "    ³   ÀÄÄÄ20190718\n",
      "    ³       ÃÄÄÄ20190718_beans_01_s1.1.pos\n",
      "    ³       ÃÄÄÄ20190718_beans_01_s1.DIO\n",
      "    ³       ÃÄÄÄ20190718_beans_01_s1.LFP\n",
      "    ³       ÃÄÄÄ20190718_beans_01_s1.mda\n",
      "    ³       ÃÄÄÄ20190718_beans_01_s1.mountain\n",
      "    ³       ÃÄÄÄ20190718_beans_01_s1.spikes\n",
      "    ³       ÀÄÄÄ20190718_beans_01_s1.time\n",
      "    ÃÄÄÄprocessing\n",
      "    ÀÄÄÄraw\n",
      "        ÀÄÄÄ20190718\n"
     ]
    }
   ],
   "source": [
    "print(os.getcwd())\n",
    "!tree ../test/test_data"
   ]
  },
  {
   "cell_type": "markdown",
   "metadata": {},
   "source": [
    "## REC to Binaries - optional"
   ]
  },
  {
   "cell_type": "code",
   "execution_count": 4,
   "metadata": {},
   "outputs": [],
   "source": [
    "# SPIKE_GADGETS_PATH = os.path.join(os.path.expanduser('~'), 'SpikeGadgets')\n",
    "\n",
    "# os.environ['PATH'] += os.pathsep + SPIKE_GADGETS_PATH\n",
    "\n",
    "# print(os.environ['PATH'])"
   ]
  },
  {
   "cell_type": "code",
   "execution_count": 5,
   "metadata": {},
   "outputs": [],
   "source": [
    "# logging.basicConfig(level='INFO', format='%(asctime)s %(message)s',\n",
    "#                     datefmt='%d-%b-%y %H:%M:%S')\n",
    "\n",
    "# data_dir = os.path.join(os.pardir, 'test_data')\n",
    "# animal = 'beans'\n",
    "\n",
    "# extract_trodes_rec_file('/Users/marcin/Novela/GitHub/LorenFranksDataMigration/src/test/test_data/', animal, parallel_instances=4, overwrite=True)"
   ]
  },
  {
   "cell_type": "markdown",
   "metadata": {},
   "source": [
    "## Setup your dataset parameters"
   ]
  },
  {
   "cell_type": "code",
   "execution_count": 6,
   "metadata": {},
   "outputs": [],
   "source": [
    "#set up dataset parameters\n",
    "animal_name = 'beans'\n",
    "dataset_date = '20190718'\n",
    "dataset_id = '01_s1'\n",
    "metadata_config_path = '../../src/test/datamigration/res/metadata.yml'\n",
    "rec_header_path = '../../src/test/datamigration/res/fl_lab_sample_header.xml'"
   ]
  },
  {
   "cell_type": "code",
   "execution_count": 8,
   "metadata": {},
   "outputs": [],
   "source": [
    "\n",
    "nwbBuilder = NWBFileBuilder(\n",
    "            data_path='../../src/test/test_data/',\n",
    "            animal_name=animal_name,\n",
    "            date=dataset_date,\n",
    "            dataset=dataset_id,\n",
    "            config_path=metadata_config_path,\n",
    "            header_path=rec_header_path)"
   ]
  },
  {
   "cell_type": "markdown",
   "metadata": {},
   "source": [
    "## Build the nwb content"
   ]
  },
  {
   "cell_type": "code",
   "execution_count": 9,
   "metadata": {},
   "outputs": [
    {
     "name": "stderr",
     "output_type": "stream",
     "text": [
      "C:\\Users\\acwik\\miniconda3\\envs\\LorenFranksDataMigration\\lib\\site-packages\\pynwb\\file.py:691: UserWarning: Date is missing timezone information. Updating to local timezone.\n",
      "  warn(\"Date is missing timezone information. Updating to local timezone.\")\n",
      "C:\\Users\\acwik\\miniconda3\\envs\\LorenFranksDataMigration\\lib\\site-packages\\rec_to_binaries\\read_binaries.py:76: FutureWarning: Passing (type, 1) or '1type' as a synonym of type is deprecated; in a future version of numpy, it will be understood as (type, (1,)) / '(1,)type'.\n",
      "  return np.dtype(typearr)\n"
     ]
    },
    {
     "name": "stdout",
     "output_type": "stream",
     "text": [
      "Wall time: 367 ms\n"
     ]
    }
   ],
   "source": [
    "%%time\n",
    "content = nwbBuilder.build()\n",
    "#expected warnings from rec_to_binaries"
   ]
  },
  {
   "cell_type": "code",
   "execution_count": 40,
   "metadata": {},
   "outputs": [
    {
     "name": "stdout",
     "output_type": "stream",
     "text": [
      "root pynwb.file.NWBFile at 0x4828598800\n",
      "Fields:\n",
      "  acquisition: {\n",
      "    e-series <class 'pynwb.ecephys.ElectricalSeries'>\n",
      "  }\n",
      "  devices: {\n",
      "    dev1 <class 'src.datamigration.extension.probe.Probe'>,\n",
      "    dev2 <class 'src.datamigration.extension.probe.Probe'>,\n",
      "    dev3 <class 'src.datamigration.extension.probe.Probe'>\n",
      "  }\n",
      "  electrode_groups: {\n",
      "    electrode group 1 <class 'src.datamigration.extension.shank.Shank'>,\n",
      "    electrode group 2 <class 'src.datamigration.extension.shank.Shank'>\n",
      "  }\n",
      "  electrodes: electrodes <class 'hdmf.common.table.DynamicTable'>\n",
      "  experiment_description: project avengers\n",
      "  experimenter: hulk\n",
      "  file_create_date: [datetime.datetime(2019, 12, 1, 10, 6, 31, 333279, tzinfo=tzlocal())]\n",
      "  identifier: 12345\n",
      "  institution: stark industrice\n",
      "  lab: hulk`s lab\n",
      "  processing: {\n",
      "    apparatus <class 'pynwb.base.ProcessingModule'>,\n",
      "    position <class 'pynwb.base.ProcessingModule'>,\n",
      "    task <class 'pynwb.base.ProcessingModule'>\n",
      "  }\n",
      "  session_description: winter soldier\n",
      "  session_start_time: 2019-10-31 20:15:30+01:00\n",
      "  subject: subject pynwb.file.Subject at 0x5032071376\n",
      "Fields:\n",
      "  age: 23\n",
      "  date_of_birth: 2001-06-16 00:00:00-07:00\n",
      "  description: big bad thanos\n",
      "  genotype: who knows\n",
      "  sex: female\n",
      "  species: eternal deviant hybrid\n",
      "  subject_id: Th1\n",
      "  weight: 120\n",
      "\n",
      "  timestamps_reference_time: 2019-10-31 20:15:30+01:00\n",
      "\n"
     ]
    }
   ],
   "source": [
    "print (content)"
   ]
  },
  {
   "cell_type": "markdown",
   "metadata": {},
   "source": [
    "## Write it down to file"
   ]
  },
  {
   "cell_type": "code",
   "execution_count": 10,
   "metadata": {},
   "outputs": [
    {
     "name": "stdout",
     "output_type": "stream",
     "text": [
      "Wall time: 33.8 s\n"
     ]
    },
    {
     "data": {
      "text/plain": [
       "'output.nwb'"
      ]
     },
     "execution_count": 10,
     "metadata": {},
     "output_type": "execute_result"
    }
   ],
   "source": [
    "%%time\n",
    "nwbBuilder.write(content)"
   ]
  },
  {
   "cell_type": "code",
   "execution_count": null,
   "metadata": {},
   "outputs": [],
   "source": []
  }
 ],
 "metadata": {
  "kernelspec": {
   "display_name": "Python [conda env:LorenFranksDataMigration] *",
   "language": "python",
   "name": "conda-env-LorenFranksDataMigration-py"
  },
  "language_info": {
   "codemirror_mode": {
    "name": "ipython",
    "version": 3
   },
   "file_extension": ".py",
   "mimetype": "text/x-python",
   "name": "python",
   "nbconvert_exporter": "python",
   "pygments_lexer": "ipython3",
   "version": "3.7.4"
  }
 },
 "nbformat": 4,
 "nbformat_minor": 2
}
