{
 "cells": [
  {
   "cell_type": "markdown",
   "metadata": {},
   "source": [
    "#  NWB File generation from raw data"
   ]
  },
  {
   "cell_type": "code",
   "execution_count": 1,
   "metadata": {},
   "outputs": [],
   "source": [
    "%reload_ext autoreload\n",
    "%autoreload 2"
   ]
  },
  {
   "cell_type": "code",
   "execution_count": 2,
   "metadata": {},
   "outputs": [],
   "source": [
    "import os\n",
    "import logging\n",
    "import sys\n",
    "sys.path.append(\"../../\")\n",
    "from src.datamigration.nwb_file_builder import NWBFileBuilder\n",
    "from rec_to_binaries import extract_trodes_rec_file\n",
    "from src.datamigration.nwb_builder.nwb_metadata import NWBMetadata\n",
    "from src.datamigration.raw_to_nwb_builder import RawToNWBBuilder\n"
   ]
  },
  {
   "cell_type": "markdown",
   "metadata": {},
   "source": [
    "## Current dir and file structure before running extraction"
   ]
  },
  {
   "cell_type": "code",
   "execution_count": 3,
   "metadata": {},
   "outputs": [
    {
     "name": "stdout",
     "output_type": "stream",
     "text": [
      "/Users/marcin/Novela/GitHub/LorenFranksDataMigration/src/notebooks\n"
     ]
    }
   ],
   "source": [
    "print(os.getcwd())\n"
   ]
  },
  {
   "cell_type": "markdown",
   "metadata": {},
   "source": [
    "## Setup your config parameters"
   ]
  },
  {
   "cell_type": "code",
   "execution_count": 4,
   "metadata": {},
   "outputs": [],
   "source": [
    "builder = RawToNWBBuilder(animal_name='beans',\n",
    "                                       data_path='../test/test_data/',\n",
    "                                       date='20190718',\n",
    "                                       nwb_metadata=NWBMetadata('../test/datamigration/res/metadata.yml',\n",
    "                                                                ['../test/datamigration/res/probe1.yml',\n",
    "                                                                 '../test/datamigration/res/probe2.yml',\n",
    "                                                                 '../test/datamigration/res/probe3.yml'\n",
    "                                                                 ]),\n",
    "                                       output_path='raw2nwb_output.nwb'\n",
    "                                       )"
   ]
  },
  {
   "cell_type": "markdown",
   "metadata": {},
   "source": [
    "## Build the nwb content"
   ]
  },
  {
   "cell_type": "code",
   "execution_count": 5,
   "metadata": {},
   "outputs": [
    {
     "name": "stderr",
     "output_type": "stream",
     "text": [
      "/Users/marcin/opt/anaconda3/envs/LorenFranksDataMigration/lib/python3.7/site-packages/rec_to_binaries/trodes_data.py:1362: TrodesDataFormatWarning: TrodesDataFormatError('skipping rec file 20190718_beans_01_s1.rec for extracting, folder ../test/test_data/beans/preprocessing/20190718/20190718_beans_01_s1.DIO already exists and overwrite=False.') (thrown from /Users/marcin/opt/anaconda3/envs/LorenFranksDataMigration/lib/python3.7/site-packages/rec_to_binaries/trodes_data.py:1303)\n",
      "  TrodesDataFormatWarning)\n",
      "/Users/marcin/opt/anaconda3/envs/LorenFranksDataMigration/lib/python3.7/site-packages/rec_to_binaries/trodes_data.py:1362: TrodesDataFormatWarning: TrodesDataFormatError('skipping rec file 20190718_beans_01_s1.rec for extracting, folder ../test/test_data/beans/preprocessing/20190718/20190718_beans_01_s1.LFP already exists and overwrite=False.') (thrown from /Users/marcin/opt/anaconda3/envs/LorenFranksDataMigration/lib/python3.7/site-packages/rec_to_binaries/trodes_data.py:1303)\n",
      "  TrodesDataFormatWarning)\n",
      "/Users/marcin/opt/anaconda3/envs/LorenFranksDataMigration/lib/python3.7/site-packages/rec_to_binaries/trodes_data.py:1362: TrodesDataFormatWarning: TrodesDataFormatError('skipping rec file 20190718_beans_01_s1.rec for extracting, folder ../test/test_data/beans/preprocessing/20190718/20190718_beans_01_s1.mda already exists and overwrite=False.') (thrown from /Users/marcin/opt/anaconda3/envs/LorenFranksDataMigration/lib/python3.7/site-packages/rec_to_binaries/trodes_data.py:1303)\n",
      "  TrodesDataFormatWarning)\n",
      "/Users/marcin/opt/anaconda3/envs/LorenFranksDataMigration/lib/python3.7/site-packages/rec_to_binaries/trodes_data.py:1362: TrodesDataFormatWarning: TrodesDataFormatError('skipping rec file 20190718_beans_01_s1.rec for extracting, folder ../test/test_data/beans/preprocessing/20190718/20190718_beans_01_s1.spikes already exists and overwrite=False.') (thrown from /Users/marcin/opt/anaconda3/envs/LorenFranksDataMigration/lib/python3.7/site-packages/rec_to_binaries/trodes_data.py:1303)\n",
      "  TrodesDataFormatWarning)\n",
      "/Users/marcin/opt/anaconda3/envs/LorenFranksDataMigration/lib/python3.7/site-packages/rec_to_binaries/trodes_data.py:1362: TrodesDataFormatWarning: TrodesDataFormatError('skipping rec file 20190718_beans_01_s1.rec for extracting, folder ../test/test_data/beans/preprocessing/20190718/20190718_beans_01_s1.time already exists and overwrite=False.') (thrown from /Users/marcin/opt/anaconda3/envs/LorenFranksDataMigration/lib/python3.7/site-packages/rec_to_binaries/trodes_data.py:1303)\n",
      "  TrodesDataFormatWarning)\n",
      "/Users/marcin/opt/anaconda3/envs/LorenFranksDataMigration/lib/python3.7/site-packages/pynwb/file.py:691: UserWarning: Date is missing timezone information. Updating to local timezone.\n",
      "  warn(\"Date is missing timezone information. Updating to local timezone.\")\n",
      "/Users/marcin/opt/anaconda3/envs/LorenFranksDataMigration/lib/python3.7/site-packages/rec_to_binaries/read_binaries.py:76: FutureWarning: Passing (type, 1) or '1type' as a synonym of type is deprecated; in a future version of numpy, it will be understood as (type, (1,)) / '(1,)type'.\n",
      "  return np.dtype(typearr)\n",
      "/Users/marcin/opt/anaconda3/envs/LorenFranksDataMigration/lib/python3.7/site-packages/hdmf/build/map.py:949: MissingRequiredWarning: attribute 'unit' for 'data' (TimeSeries)\n",
      "  warnings.warn(msg, MissingRequiredWarning)\n"
     ]
    },
    {
     "name": "stdout",
     "output_type": "stream",
     "text": [
      "root pynwb.file.NWBFile at 0x4788381008\n",
      "Fields:\n",
      "  acquisition: {\n",
      "    e-series <class 'pynwb.ecephys.ElectricalSeries'>\n",
      "  }\n",
      "  devices: {\n",
      "    0 <class 'src.datamigration.extension.probe.Probe'>\n",
      "  }\n",
      "  electrode_groups: {\n",
      "    electrode group 0 <class 'src.datamigration.extension.fl_electrode_group.FLElectrodeGroup'>,\n",
      "    electrode group 1 <class 'src.datamigration.extension.fl_electrode_group.FLElectrodeGroup'>,\n",
      "    ntrode 1 <class 'src.datamigration.extension.ntrode.NTrode'>,\n",
      "    ntrode 2 <class 'src.datamigration.extension.ntrode.NTrode'>,\n",
      "    ntrode 3 <class 'src.datamigration.extension.ntrode.NTrode'>,\n",
      "    ntrode 4 <class 'src.datamigration.extension.ntrode.NTrode'>,\n",
      "    ntrode 5 <class 'src.datamigration.extension.ntrode.NTrode'>,\n",
      "    ntrode 6 <class 'src.datamigration.extension.ntrode.NTrode'>,\n",
      "    ntrode 7 <class 'src.datamigration.extension.ntrode.NTrode'>,\n",
      "    ntrode 8 <class 'src.datamigration.extension.ntrode.NTrode'>\n",
      "  }\n",
      "  electrodes: electrodes <class 'hdmf.common.table.DynamicTable'>\n",
      "  experiment_description: Reinforcement learning\n",
      "  experimenter: Alison Comrie\n",
      "  file_create_date: [datetime.datetime(2020, 1, 24, 20, 27, 34, 417604, tzinfo=tzlocal())]\n",
      "  identifier: 92775668-3edf-11ea-bcca-a683e793ff2a\n",
      "  institution: University of California, San Francisco\n",
      "  lab: Loren Frank\n",
      "  processing: {\n",
      "    behavior <class 'pynwb.base.ProcessingModule'>\n",
      "  }\n",
      "  session_description: Reinforcement leaarning\n",
      "  session_start_time: 2019-07-18 20:15:30+02:00\n",
      "  subject: subject pynwb.file.Subject at 0x4832601040\n",
      "Fields:\n",
      "  description: Long Evans Rat\n",
      "  genotype: Wild Type\n",
      "  sex: Male\n",
      "  species: Rat\n",
      "  subject_id: Beans\n",
      "  weight: Unknown\n",
      "\n",
      "  timestamps_reference_time: 2019-07-18 20:15:30+02:00\n",
      "\n",
      "CPU times: user 3min 39s, sys: 13.1 s, total: 3min 53s\n",
      "Wall time: 3min 57s\n"
     ]
    }
   ],
   "source": [
    "%%time\n",
    "content = builder.build_nwb()\n",
    "print(content)\n",
    "#expected warnings from rec_to_binaries"
   ]
  },
  {
   "cell_type": "markdown",
   "metadata": {},
   "source": [
    "# Cleanup preprocessed data"
   ]
  },
  {
   "cell_type": "code",
   "execution_count": 22,
   "metadata": {},
   "outputs": [],
   "source": [
    "builder.cleanup()"
   ]
  },
  {
   "cell_type": "code",
   "execution_count": null,
   "metadata": {},
   "outputs": [],
   "source": []
  }
 ],
 "metadata": {
  "kernelspec": {
   "display_name": "Python [conda env:LorenFranksDataMigration]",
   "language": "python",
   "name": "conda-env-LorenFranksDataMigration-py"
  },
  "language_info": {
   "codemirror_mode": {
    "name": "ipython",
    "version": 3
   },
   "file_extension": ".py",
   "mimetype": "text/x-python",
   "name": "python",
   "nbconvert_exporter": "python",
   "pygments_lexer": "ipython3",
   "version": "3.7.4"
  }
 },
 "nbformat": 4,
 "nbformat_minor": 2
}
