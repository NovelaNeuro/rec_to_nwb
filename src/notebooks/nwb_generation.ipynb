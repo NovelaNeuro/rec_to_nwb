{
 "cells": [
  {
   "cell_type": "markdown",
   "metadata": {},
   "source": [
    "#  NWB File generation from raw data"
   ]
  },
  {
   "cell_type": "code",
   "execution_count": 12,
   "metadata": {},
   "outputs": [],
   "source": [
    "%reload_ext autoreload\n",
    "%autoreload 2"
   ]
  },
  {
   "cell_type": "code",
   "execution_count": 13,
   "metadata": {},
   "outputs": [],
   "source": [
    "import os\n",
    "import logging\n",
    "import sys\n",
    "sys.path.append(\"../../\")\n",
    "from src.datamigration.nwb_file_builder import NWBFileBuilder\n",
    "from src.test.e2etests.experiment_data import ExperimentData\n",
    "from rec_to_binaries import extract_trodes_rec_file\n",
    "from src.datamigration.nwb_builder.nwb_metadata import NWBMetadata\n",
    "from src.datamigration.raw_to_nwb_builder import RawToNWBBuilder\n"
   ]
  },
  {
   "cell_type": "markdown",
   "metadata": {},
   "source": [
    "## Current dir and file structure before running extraction"
   ]
  },
  {
   "cell_type": "code",
   "execution_count": 14,
   "metadata": {},
   "outputs": [
    {
     "name": "stdout",
     "output_type": "stream",
     "text": [
      "/Users/marcin/Novela/GitHub/LorenFranksDataMigration/src/notebooks\n"
     ]
    }
   ],
   "source": [
    "print(os.getcwd())\n"
   ]
  },
  {
   "cell_type": "markdown",
   "metadata": {},
   "source": [
    "## Setup your config parameters"
   ]
  },
  {
   "cell_type": "code",
   "execution_count": 15,
   "metadata": {},
   "outputs": [],
   "source": [
    "builder = RawToNWBBuilder(animal_name='beans',\n",
    "                                       data_path='../test/test_data/',\n",
    "                                       date='20190718',\n",
    "                                       nwb_metadata=NWBMetadata('../test/datamigration/res/metadata.yml',\n",
    "                                                                ['../test/datamigration/res/probe1.yml',\n",
    "                                                                 '../test/datamigration/res/probe2.yml',\n",
    "                                                                 '../test/datamigration/res/probe3.yml'\n",
    "                                                                 ]),\n",
    "                                       output_path='raw2nwb_output.nwb'\n",
    "                                       )"
   ]
  },
  {
   "cell_type": "markdown",
   "metadata": {},
   "source": [
    "## Build the nwb content"
   ]
  },
  {
   "cell_type": "code",
   "execution_count": 16,
   "metadata": {},
   "outputs": [
    {
     "name": "stderr",
     "output_type": "stream",
     "text": [
      "/Users/marcin/opt/anaconda3/envs/LorenFranksDataMigration/lib/python3.7/site-packages/rec_to_binaries/trodes_data.py:601: TrodesDataFormatWarning: anim path (../test/test_data/beans/preprocessing) does not exist.\n",
      "  anim_path)), TrodesDataFormatWarning)\n"
     ]
    },
    {
     "name": "stdout",
     "output_type": "stream",
     "text": [
      "(ID: 0) Running exportdio on animal beans date 20190718 epoch 01\n",
      "(ID: 0) Full command: ['exportdio', '-rec', '../test/test_data/beans/raw/20190718/20190718_beans_01_s1.rec', '-outputdirectory', '../test/test_data/beans/preprocessing/20190718', '-output', '20190718_beans_01_s1']\n",
      "(ID: 0) Done running ['exportdio', '-rec', '../test/test_data/beans/raw/20190718/20190718_beans_01_s1.rec', '-outputdirectory', '../test/test_data/beans/preprocessing/20190718', '-output', '20190718_beans_01_s1']\n",
      "(ID: 0) Exporting DIO data...\n",
      "(ID: 0) 0 %\n",
      "(ID: 0) 5 %\n",
      "(ID: 0) 10 %\n",
      "(ID: 0) 15 %\n",
      "(ID: 0) 20 %\n",
      "(ID: 0) 25 %\n",
      "(ID: 0) 30 %\n",
      "(ID: 0) 35 %\n",
      "(ID: 0) 39 %\n",
      "(ID: 0) 45 %\n",
      "(ID: 0) 50 %\n",
      "(ID: 0) 54 %\n",
      "(ID: 0) 60 %\n",
      "(ID: 0) 65 %\n",
      "(ID: 0) 69 %\n",
      "(ID: 0) 75 %\n",
      "(ID: 0) 80 %\n",
      "(ID: 0) 84 %\n",
      "(ID: 0) 90 %\n",
      "(ID: 0) 95 %\n",
      "(ID: 0) \n",
      "(ID: 0) Done\n",
      "(ID: 0) Running exportLFP on animal beans date 20190718 epoch 01\n",
      "(ID: 0) Full command: ['exportLFP', '-rec', '../test/test_data/beans/raw/20190718/20190718_beans_01_s1.rec', '-outputdirectory', '../test/test_data/beans/preprocessing/20190718', '-output', '20190718_beans_01_s1', '-highpass', '0', '-lowpass', '400', '-interp', '0', '-userefs', '0', '-outputrate', '1500']\n",
      "(ID: 0) Done running ['exportLFP', '-rec', '../test/test_data/beans/raw/20190718/20190718_beans_01_s1.rec', '-outputdirectory', '../test/test_data/beans/preprocessing/20190718', '-output', '20190718_beans_01_s1', '-highpass', '0', '-lowpass', '400', '-interp', '0', '-userefs', '0', '-outputrate', '1500']\n",
      "(ID: 0) Processing LFP...\n",
      "(ID: 0) 0 %\n",
      "(ID: 0) 5 %\n",
      "(ID: 0) 10 %\n",
      "(ID: 0) 15 %\n",
      "(ID: 0) 20 %\n",
      "(ID: 0) 25 %\n",
      "(ID: 0) 30 %\n",
      "(ID: 0) 35 %\n",
      "(ID: 0) 39 %\n",
      "(ID: 0) 45 %\n",
      "(ID: 0) 50 %\n",
      "(ID: 0) 54 %\n",
      "(ID: 0) 60 %\n",
      "(ID: 0) 65 %\n",
      "(ID: 0) 69 %\n",
      "(ID: 0) 75 %\n",
      "(ID: 0) 80 %\n",
      "(ID: 0) 84 %\n",
      "(ID: 0) 90 %\n",
      "(ID: 0) 95 %\n",
      "(ID: 0) \n",
      "(ID: 0) Done\n",
      "(ID: 0) Running exportmda on animal beans date 20190718 epoch 01\n",
      "(ID: 0) Full command: ['exportmda', '-rec', '../test/test_data/beans/raw/20190718/20190718_beans_01_s1.rec', '-outputdirectory', '../test/test_data/beans/preprocessing/20190718', '-output', '20190718_beans_01_s1', '-usespikefilters', '0', '-interp', '500', '-userefs', '1']\n",
      "(ID: 0) Done running ['exportmda', '-rec', '../test/test_data/beans/raw/20190718/20190718_beans_01_s1.rec', '-outputdirectory', '../test/test_data/beans/preprocessing/20190718', '-output', '20190718_beans_01_s1', '-usespikefilters', '0', '-interp', '500', '-userefs', '1']\n",
      "(ID: 0) For backwards compatibility, uselfpfilters and usespikefilters flags both set to 0.\n",
      "(ID: 0) Exporting to MDA format file...\n",
      "(ID: 0) 0 %\n",
      "(ID: 0) 5 %\n",
      "(ID: 0) 10 %\n",
      "(ID: 0) 15 %\n",
      "(ID: 0) 20 %\n",
      "(ID: 0) 25 %\n",
      "(ID: 0) 30 %\n",
      "(ID: 0) 35 %\n",
      "(ID: 0) 39 %\n",
      "(ID: 0) 45 %\n",
      "(ID: 0) 50 %\n",
      "(ID: 0) 54 %\n",
      "(ID: 0) 60 %\n",
      "(ID: 0) 65 %\n",
      "(ID: 0) 69 %\n",
      "(ID: 0) 75 %\n",
      "(ID: 0) 80 %\n",
      "(ID: 0) 84 %\n",
      "(ID: 0) 90 %\n",
      "(ID: 0) 95 %\n",
      "(ID: 0) \n",
      "(ID: 0) Done\n",
      "(ID: 0) Running exportspikes on animal beans date 20190718 epoch 01\n",
      "(ID: 0) Full command: ['exportspikes', '-rec', '../test/test_data/beans/raw/20190718/20190718_beans_01_s1.rec', '-outputdirectory', '../test/test_data/beans/preprocessing/20190718', '-output', '20190718_beans_01_s1']\n",
      "(ID: 0) Done running ['exportspikes', '-rec', '../test/test_data/beans/raw/20190718/20190718_beans_01_s1.rec', '-outputdirectory', '../test/test_data/beans/preprocessing/20190718', '-output', '20190718_beans_01_s1']\n",
      "(ID: 0) Exporting to spike waveform data...\n",
      "(ID: 0) 0 %\n",
      "(ID: 0) 5 %\n",
      "(ID: 0) 10 %\n",
      "(ID: 0) 15 %\n",
      "(ID: 0) 20 %\n",
      "(ID: 0) 25 %\n",
      "(ID: 0) 30 %\n",
      "(ID: 0) 35 %\n",
      "(ID: 0) 39 %\n",
      "(ID: 0) 45 %\n",
      "(ID: 0) 50 %\n",
      "(ID: 0) 54 %\n",
      "(ID: 0) 60 %\n",
      "(ID: 0) 65 %\n",
      "(ID: 0) 69 %\n",
      "(ID: 0) 75 %\n",
      "(ID: 0) 80 %\n",
      "(ID: 0) 84 %\n",
      "(ID: 0) 90 %\n",
      "(ID: 0) 95 %\n",
      "(ID: 0) \n",
      "(ID: 0) Done\n",
      "(ID: 0) Running exporttime on animal beans date 20190718 epoch 01\n",
      "(ID: 0) Full command: ['exporttime', '-rec', '../test/test_data/beans/raw/20190718/20190718_beans_01_s1.rec', '-outputdirectory', '../test/test_data/beans/preprocessing/20190718', '-output', '20190718_beans_01_s1']\n",
      "(ID: 0) Done running ['exporttime', '-rec', '../test/test_data/beans/raw/20190718/20190718_beans_01_s1.rec', '-outputdirectory', '../test/test_data/beans/preprocessing/20190718', '-output', '20190718_beans_01_s1']\n",
      "(ID: 0) Exporting continuous time period data...\n",
      "(ID: 0) File contains system clock information.\n",
      "(ID: 0) 0 %\n",
      "(ID: 0) 5 %\n",
      "(ID: 0) 10 %\n",
      "(ID: 0) 15 %\n",
      "(ID: 0) 20 %\n",
      "(ID: 0) 25 %\n",
      "(ID: 0) 30 %\n",
      "(ID: 0) 35 %\n",
      "(ID: 0) 39 %\n",
      "(ID: 0) 45 %\n",
      "(ID: 0) 50 %\n",
      "(ID: 0) 54 %\n",
      "(ID: 0) 60 %\n",
      "(ID: 0) 65 %\n",
      "(ID: 0) 69 %\n",
      "(ID: 0) 75 %\n",
      "(ID: 0) 80 %\n",
      "(ID: 0) 84 %\n",
      "(ID: 0) 90 %\n",
      "(ID: 0) 95 %\n",
      "(ID: 0) \n",
      "(ID: 0) Done\n",
      "[['../test/test_data/beans/preprocessing/20190718/20190718_beans_01_s1.1.pos/20190718_beans_01_s1.1.pos_online.dat']]\n"
     ]
    },
    {
     "name": "stderr",
     "output_type": "stream",
     "text": [
      "/Users/marcin/opt/anaconda3/envs/LorenFranksDataMigration/lib/python3.7/site-packages/pynwb/file.py:691: UserWarning: Date is missing timezone information. Updating to local timezone.\n",
      "  warn(\"Date is missing timezone information. Updating to local timezone.\")\n",
      "/Users/marcin/opt/anaconda3/envs/LorenFranksDataMigration/lib/python3.7/site-packages/rec_to_binaries/read_binaries.py:76: FutureWarning: Passing (type, 1) or '1type' as a synonym of type is deprecated; in a future version of numpy, it will be understood as (type, (1,)) / '(1,)type'.\n",
      "  return np.dtype(typearr)\n",
      "/Users/marcin/opt/anaconda3/envs/LorenFranksDataMigration/lib/python3.7/site-packages/hdmf/build/map.py:949: MissingRequiredWarning: attribute 'unit' for 'data' (TimeSeries)\n",
      "  warnings.warn(msg, MissingRequiredWarning)\n"
     ]
    },
    {
     "name": "stdout",
     "output_type": "stream",
     "text": [
      "root pynwb.file.NWBFile at 0x4724708560\n",
      "Fields:\n",
      "  devices: {\n",
      "    1 <class 'src.datamigration.extension.probe.Probe'>,\n",
      "    2 <class 'src.datamigration.extension.probe.Probe'>,\n",
      "    3 <class 'src.datamigration.extension.probe.Probe'>\n",
      "  }\n",
      "  electrode_groups: {\n",
      "    electrode group 0 <class 'src.datamigration.extension.fl_electrode_group.FLElectrodeGroup'>,\n",
      "    electrode group 1 <class 'src.datamigration.extension.fl_electrode_group.FLElectrodeGroup'>,\n",
      "    electrode group 3 <class 'src.datamigration.extension.fl_electrode_group.FLElectrodeGroup'>,\n",
      "    electrode group 4 <class 'src.datamigration.extension.fl_electrode_group.FLElectrodeGroup'>,\n",
      "    electrode group 5 <class 'src.datamigration.extension.fl_electrode_group.FLElectrodeGroup'>,\n",
      "    electrode group 6 <class 'src.datamigration.extension.fl_electrode_group.FLElectrodeGroup'>,\n",
      "    electrode group 7 <class 'src.datamigration.extension.fl_electrode_group.FLElectrodeGroup'>,\n",
      "    ntrode 1 <class 'src.datamigration.extension.ntrode.NTrode'>,\n",
      "    ntrode 2 <class 'src.datamigration.extension.ntrode.NTrode'>,\n",
      "    ntrode 3 <class 'src.datamigration.extension.ntrode.NTrode'>,\n",
      "    ntrode 4 <class 'src.datamigration.extension.ntrode.NTrode'>,\n",
      "    ntrode 5 <class 'src.datamigration.extension.ntrode.NTrode'>,\n",
      "    ntrode 6 <class 'src.datamigration.extension.ntrode.NTrode'>,\n",
      "    ntrode 7 <class 'src.datamigration.extension.ntrode.NTrode'>,\n",
      "    ntrode 8 <class 'src.datamigration.extension.ntrode.NTrode'>\n",
      "  }\n",
      "  experiment_description: Reinforcement learning\n",
      "  experimenter: Alison Comrie\n",
      "  file_create_date: [datetime.datetime(2020, 1, 14, 12, 56, 2, 774702, tzinfo=tzlocal())]\n",
      "  identifier: Necessary identifier\n",
      "  institution: University of California, San Francisco\n",
      "  lab: Loren Frank\n",
      "  processing: {\n",
      "    apparatus <class 'pynwb.base.ProcessingModule'>,\n",
      "    behavioral_event <class 'pynwb.base.ProcessingModule'>,\n",
      "    position <class 'pynwb.base.ProcessingModule'>,\n",
      "    task <class 'pynwb.base.ProcessingModule'>\n",
      "  }\n",
      "  session_description: Reinforcement leaarning\n",
      "  session_start_time: 2019-07-18 20:15:30+02:00\n",
      "  subject: subject pynwb.file.Subject at 0x4724708944\n",
      "Fields:\n",
      "  description: Long Evans Rat\n",
      "  genotype: Wild Type\n",
      "  sex: Male\n",
      "  species: Rat\n",
      "  subject_id: Beans\n",
      "  weight: Unknown\n",
      "\n",
      "  timestamps_reference_time: 2019-07-18 20:15:30+02:00\n",
      "\n",
      "CPU times: user 1.77 s, sys: 132 ms, total: 1.9 s\n",
      "Wall time: 10min 48s\n"
     ]
    }
   ],
   "source": [
    "%%time\n",
    "content = builder.build_nwb()\n",
    "print(content)\n",
    "#expected warnings from rec_to_binaries"
   ]
  },
  {
   "cell_type": "markdown",
   "metadata": {},
   "source": [
    "# Cleanup preprocessed data"
   ]
  },
  {
   "cell_type": "code",
   "execution_count": null,
   "metadata": {},
   "outputs": [],
   "source": [
    "builder.cleanup()"
   ]
  }
 ],
 "metadata": {
  "kernelspec": {
   "display_name": "Python [conda env:LorenFranksDataMigration]",
   "language": "python",
   "name": "conda-env-LorenFranksDataMigration-py"
  },
  "language_info": {
   "codemirror_mode": {
    "name": "ipython",
    "version": 3
   },
   "file_extension": ".py",
   "mimetype": "text/x-python",
   "name": "python",
   "nbconvert_exporter": "python",
   "pygments_lexer": "ipython3",
   "version": "3.7.4"
  }
 },
 "nbformat": 4,
 "nbformat_minor": 2
}
