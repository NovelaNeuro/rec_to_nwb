{
 "cells": [
  {
   "cell_type": "markdown",
   "metadata": {},
   "source": [
    "#  NWB File generation from raw data"
   ]
  },
  {
   "cell_type": "code",
   "execution_count": 1,
   "metadata": {},
   "outputs": [],
   "source": [
    "%reload_ext autoreload\n",
    "%autoreload 2"
   ]
  },
  {
   "cell_type": "code",
   "execution_count": 3,
   "metadata": {},
   "outputs": [
    {
     "ename": "ModuleNotFoundError",
     "evalue": "No module named 'xmlschema'",
     "output_type": "error",
     "traceback": [
      "\u001b[0;31m---------------------------------------------------------------------------\u001b[0m",
      "\u001b[0;31mModuleNotFoundError\u001b[0m                       Traceback (most recent call last)",
      "\u001b[0;32m<ipython-input-3-2bb8c54e6483>\u001b[0m in \u001b[0;36m<module>\u001b[0;34m\u001b[0m\n\u001b[1;32m      3\u001b[0m \u001b[0;32mimport\u001b[0m \u001b[0msys\u001b[0m\u001b[0;34m\u001b[0m\u001b[0;34m\u001b[0m\u001b[0m\n\u001b[1;32m      4\u001b[0m \u001b[0msys\u001b[0m\u001b[0;34m.\u001b[0m\u001b[0mpath\u001b[0m\u001b[0;34m.\u001b[0m\u001b[0mappend\u001b[0m\u001b[0;34m(\u001b[0m\u001b[0;34m\"../../\"\u001b[0m\u001b[0;34m)\u001b[0m\u001b[0;34m\u001b[0m\u001b[0;34m\u001b[0m\u001b[0m\n\u001b[0;32m----> 5\u001b[0;31m \u001b[0;32mfrom\u001b[0m \u001b[0mfl\u001b[0m\u001b[0;34m.\u001b[0m\u001b[0mprocessing\u001b[0m\u001b[0;34m.\u001b[0m\u001b[0mnwb_file_builder\u001b[0m \u001b[0;32mimport\u001b[0m \u001b[0mNWBFileBuilder\u001b[0m\u001b[0;34m\u001b[0m\u001b[0;34m\u001b[0m\u001b[0m\n\u001b[0m\u001b[1;32m      6\u001b[0m \u001b[0;32mfrom\u001b[0m \u001b[0mrec_to_binaries\u001b[0m \u001b[0;32mimport\u001b[0m \u001b[0mextract_trodes_rec_file\u001b[0m\u001b[0;34m\u001b[0m\u001b[0;34m\u001b[0m\u001b[0m\n\u001b[1;32m      7\u001b[0m \u001b[0;32mfrom\u001b[0m \u001b[0mfl\u001b[0m\u001b[0;34m.\u001b[0m\u001b[0mprocessing\u001b[0m\u001b[0;34m.\u001b[0m\u001b[0mraw_to_nwb_builder\u001b[0m \u001b[0;32mimport\u001b[0m \u001b[0mRawToNWBBuilder\u001b[0m\u001b[0;34m\u001b[0m\u001b[0;34m\u001b[0m\u001b[0m\n",
      "\u001b[0;32m~/Novela/GitHub/rec_to_nwb/rec_to_nwb/processing/nwb_file_builder.py\u001b[0m in \u001b[0;36m<module>\u001b[0;34m\u001b[0m\n\u001b[1;32m      6\u001b[0m \u001b[0;32mfrom\u001b[0m \u001b[0mpynwb\u001b[0m\u001b[0;34m.\u001b[0m\u001b[0mfile\u001b[0m \u001b[0;32mimport\u001b[0m \u001b[0mSubject\u001b[0m\u001b[0;34m\u001b[0m\u001b[0;34m\u001b[0m\u001b[0m\n\u001b[1;32m      7\u001b[0m \u001b[0;34m\u001b[0m\u001b[0m\n\u001b[0;32m----> 8\u001b[0;31m \u001b[0;32mfrom\u001b[0m \u001b[0mfl\u001b[0m\u001b[0;34m.\u001b[0m\u001b[0mprocessing\u001b[0m\u001b[0;34m.\u001b[0m\u001b[0mheader\u001b[0m\u001b[0;34m.\u001b[0m\u001b[0mheader_checker\u001b[0m\u001b[0;34m.\u001b[0m\u001b[0mheader_processor\u001b[0m \u001b[0;32mimport\u001b[0m \u001b[0mHeaderProcessor\u001b[0m\u001b[0;34m\u001b[0m\u001b[0;34m\u001b[0m\u001b[0m\n\u001b[0m\u001b[1;32m      9\u001b[0m \u001b[0;32mfrom\u001b[0m \u001b[0mfl\u001b[0m\u001b[0;34m.\u001b[0m\u001b[0mprocessing\u001b[0m\u001b[0;34m.\u001b[0m\u001b[0mheader\u001b[0m\u001b[0;34m.\u001b[0m\u001b[0mheader_checker\u001b[0m\u001b[0;34m.\u001b[0m\u001b[0mrec_file_finder\u001b[0m \u001b[0;32mimport\u001b[0m \u001b[0mRecFileFinder\u001b[0m\u001b[0;34m\u001b[0m\u001b[0;34m\u001b[0m\u001b[0m\n\u001b[1;32m     10\u001b[0m \u001b[0;32mfrom\u001b[0m \u001b[0mfl\u001b[0m\u001b[0;34m.\u001b[0m\u001b[0mprocessing\u001b[0m\u001b[0;34m.\u001b[0m\u001b[0mheader\u001b[0m\u001b[0;34m.\u001b[0m\u001b[0mmodule\u001b[0m\u001b[0;34m.\u001b[0m\u001b[0mheader\u001b[0m \u001b[0;32mimport\u001b[0m \u001b[0mHeader\u001b[0m\u001b[0;34m\u001b[0m\u001b[0;34m\u001b[0m\u001b[0m\n",
      "\u001b[0;32m~/Novela/GitHub/rec_to_nwb/rec_to_nwb/processing/header/header_checker/header_processor.py\u001b[0m in \u001b[0;36m<module>\u001b[0;34m\u001b[0m\n\u001b[1;32m      1\u001b[0m \u001b[0;32mfrom\u001b[0m \u001b[0mfl\u001b[0m\u001b[0;34m.\u001b[0m\u001b[0mprocessing\u001b[0m\u001b[0;34m.\u001b[0m\u001b[0mheader\u001b[0m\u001b[0;34m.\u001b[0m\u001b[0mheader_checker\u001b[0m\u001b[0;34m.\u001b[0m\u001b[0mheader_comparator\u001b[0m \u001b[0;32mimport\u001b[0m \u001b[0mHeaderComparator\u001b[0m\u001b[0;34m\u001b[0m\u001b[0;34m\u001b[0m\u001b[0m\n\u001b[0;32m----> 2\u001b[0;31m \u001b[0;32mfrom\u001b[0m \u001b[0mfl\u001b[0m\u001b[0;34m.\u001b[0m\u001b[0mprocessing\u001b[0m\u001b[0;34m.\u001b[0m\u001b[0mheader\u001b[0m\u001b[0;34m.\u001b[0m\u001b[0mheader_checker\u001b[0m\u001b[0;34m.\u001b[0m\u001b[0mheader_extractor\u001b[0m \u001b[0;32mimport\u001b[0m \u001b[0mHeaderFilesExtractor\u001b[0m\u001b[0;34m\u001b[0m\u001b[0;34m\u001b[0m\u001b[0m\n\u001b[0m\u001b[1;32m      3\u001b[0m \u001b[0;32mfrom\u001b[0m \u001b[0mfl\u001b[0m\u001b[0;34m.\u001b[0m\u001b[0mprocessing\u001b[0m\u001b[0;34m.\u001b[0m\u001b[0mheader\u001b[0m\u001b[0;34m.\u001b[0m\u001b[0mheader_checker\u001b[0m\u001b[0;34m.\u001b[0m\u001b[0mheader_logger\u001b[0m \u001b[0;32mimport\u001b[0m \u001b[0mHeaderLogger\u001b[0m\u001b[0;34m\u001b[0m\u001b[0;34m\u001b[0m\u001b[0m\n\u001b[1;32m      4\u001b[0m \u001b[0;34m\u001b[0m\u001b[0m\n\u001b[1;32m      5\u001b[0m \u001b[0;34m\u001b[0m\u001b[0m\n",
      "\u001b[0;32m~/Novela/GitHub/rec_to_nwb/rec_to_nwb/processing/header/header_checker/header_extractor.py\u001b[0m in \u001b[0;36m<module>\u001b[0;34m\u001b[0m\n\u001b[0;32m----> 1\u001b[0;31m \u001b[0;32mfrom\u001b[0m \u001b[0mfl\u001b[0m\u001b[0;34m.\u001b[0m\u001b[0mprocessing\u001b[0m\u001b[0;34m.\u001b[0m\u001b[0mheader\u001b[0m\u001b[0;34m.\u001b[0m\u001b[0mxml_extractor\u001b[0m \u001b[0;32mimport\u001b[0m \u001b[0mXMLExtractor\u001b[0m\u001b[0;34m\u001b[0m\u001b[0;34m\u001b[0m\u001b[0m\n\u001b[0m\u001b[1;32m      2\u001b[0m \u001b[0;34m\u001b[0m\u001b[0m\n\u001b[1;32m      3\u001b[0m \u001b[0;34m\u001b[0m\u001b[0m\n\u001b[1;32m      4\u001b[0m \u001b[0;32mclass\u001b[0m \u001b[0mHeaderFilesExtractor\u001b[0m\u001b[0;34m:\u001b[0m\u001b[0;34m\u001b[0m\u001b[0;34m\u001b[0m\u001b[0m\n\u001b[1;32m      5\u001b[0m \u001b[0;34m\u001b[0m\u001b[0m\n",
      "\u001b[0;32m~/Novela/GitHub/rec_to_nwb/rec_to_nwb/processing/header/xml_extractor.py\u001b[0m in \u001b[0;36m<module>\u001b[0;34m\u001b[0m\n\u001b[1;32m      9\u001b[0m \u001b[0;34m\u001b[0m\u001b[0m\n\u001b[1;32m     10\u001b[0m \u001b[0;32mimport\u001b[0m \u001b[0mdefusedxml\u001b[0m\u001b[0;34m.\u001b[0m\u001b[0mcElementTree\u001b[0m \u001b[0;32mas\u001b[0m \u001b[0mElementTree\u001b[0m\u001b[0;34m\u001b[0m\u001b[0;34m\u001b[0m\u001b[0m\n\u001b[0;32m---> 11\u001b[0;31m \u001b[0;32mfrom\u001b[0m \u001b[0mxmlschema\u001b[0m \u001b[0;32mimport\u001b[0m \u001b[0mXMLSchema\u001b[0m\u001b[0;34m\u001b[0m\u001b[0;34m\u001b[0m\u001b[0m\n\u001b[0m\u001b[1;32m     12\u001b[0m \u001b[0;34m\u001b[0m\u001b[0m\n\u001b[1;32m     13\u001b[0m \u001b[0;34m\u001b[0m\u001b[0m\n",
      "\u001b[0;31mModuleNotFoundError\u001b[0m: No module named 'xmlschema'"
     ]
    }
   ],
   "source": [
    "import os\n",
    "import logging\n",
    "import sys\n",
    "sys.path.append(\"../../\")\n",
    "from rec_to_nwb.processing.nwb_file_builder import NWBFileBuilder\n",
    "from rec_to_binaries import extract_trodes_rec_file\n",
    "from rec_to_nwb.processing.raw_to_nwb_builder import RawToNWBBuilder\n",
    "from rec_to_nwb.processing.metadata.metadata_manager import MetadataManager\n"
   ]
  },
  {
   "cell_type": "markdown",
   "metadata": {},
   "source": [
    "## Current dir and file structure before running extraction"
   ]
  },
  {
   "cell_type": "code",
   "execution_count": 4,
   "metadata": {},
   "outputs": [
    {
     "name": "stdout",
     "output_type": "stream",
     "text": [
      "/Users/marcin/Novela/GitHub/rec_to_nwb/rec_to_nwb/notebooks\n"
     ]
    }
   ],
   "source": [
    "print(os.getcwd())\n"
   ]
  },
  {
   "cell_type": "markdown",
   "metadata": {},
   "source": [
    "## Setup your config parameters"
   ]
  },
  {
   "cell_type": "code",
   "execution_count": 5,
   "metadata": {},
   "outputs": [
    {
     "ename": "NameError",
     "evalue": "name 'MetadataManager' is not defined",
     "output_type": "error",
     "traceback": [
      "\u001b[0;31m---------------------------------------------------------------------------\u001b[0m",
      "\u001b[0;31mNameError\u001b[0m                                 Traceback (most recent call last)",
      "\u001b[0;32m<ipython-input-5-794be306a0f2>\u001b[0m in \u001b[0;36m<module>\u001b[0;34m\u001b[0m\n\u001b[0;32m----> 1\u001b[0;31m metadata = MetadataManager(\n\u001b[0m\u001b[1;32m      2\u001b[0m     \u001b[0;34m'metadata.yml'\u001b[0m\u001b[0;34m,\u001b[0m\u001b[0;34m\u001b[0m\u001b[0;34m\u001b[0m\u001b[0m\n\u001b[1;32m      3\u001b[0m     ['probe1.yml',\n\u001b[1;32m      4\u001b[0m      \u001b[0;34m'probe2.yml'\u001b[0m\u001b[0;34m,\u001b[0m\u001b[0;34m\u001b[0m\u001b[0;34m\u001b[0m\u001b[0m\n\u001b[1;32m      5\u001b[0m      'probe3.yml'])\n",
      "\u001b[0;31mNameError\u001b[0m: name 'MetadataManager' is not defined"
     ]
    }
   ],
   "source": [
    "metadata = MetadataManager(\n",
    "    'metadata.yml',\n",
    "    ['probe1.yml',\n",
    "     'probe2.yml',\n",
    "     'probe3.yml'])\n",
    "print(metadata)\n",
    "\n"
   ]
  },
  {
   "cell_type": "markdown",
   "metadata": {},
   "source": [
    "# Processing initiation"
   ]
  },
  {
   "cell_type": "code",
   "execution_count": 11,
   "metadata": {},
   "outputs": [],
   "source": [
    "builder = RawToNWBBuilder(animal_name='beans',\n",
    "                                       data_path='../test/test_data/',\n",
    "                                       dates=['20190718'],\n",
    "                                       nwb_metadata=metadata,\n",
    "                                       )"
   ]
  },
  {
   "cell_type": "markdown",
   "metadata": {},
   "source": [
    "## Run processing and create nwb file"
   ]
  },
  {
   "cell_type": "code",
   "execution_count": 5,
   "metadata": {},
   "outputs": [
    {
     "name": "stderr",
     "output_type": "stream",
     "text": [
      "/Users/marcin/opt/anaconda3/envs/rec_to_nwb/lib/python3.7/site-packages/rec_to_binaries/trodes_data.py:1362: TrodesDataFormatWarning: TrodesDataFormatError('skipping rec file 20190718_beans_01_s1.rec for extracting, folder ../test/test_data/beans/preprocessing/20190718/20190718_beans_01_s1.DIO already exists and overwrite=False.') (thrown from /Users/marcin/opt/anaconda3/envs/rec_to_nwb/lib/python3.7/site-packages/rec_to_binaries/trodes_data.py:1303)\n",
      "  TrodesDataFormatWarning)\n",
      "/Users/marcin/opt/anaconda3/envs/rec_to_nwb/lib/python3.7/site-packages/rec_to_binaries/trodes_data.py:1362: TrodesDataFormatWarning: TrodesDataFormatError('skipping rec file 20190718_beans_01_s1.rec for extracting, folder ../test/test_data/beans/preprocessing/20190718/20190718_beans_01_s1.mda already exists and overwrite=False.') (thrown from /Users/marcin/opt/anaconda3/envs/rec_to_nwb/lib/python3.7/site-packages/rec_to_binaries/trodes_data.py:1303)\n",
      "  TrodesDataFormatWarning)\n",
      "/Users/marcin/opt/anaconda3/envs/rec_to_nwb/lib/python3.7/site-packages/rec_to_binaries/trodes_data.py:1362: TrodesDataFormatWarning: TrodesDataFormatError('skipping rec file 20190718_beans_01_s1.rec for extracting, folder ../test/test_data/beans/preprocessing/20190718/20190718_beans_01_s1.time already exists and overwrite=False.') (thrown from /Users/marcin/opt/anaconda3/envs/rec_to_nwb/lib/python3.7/site-packages/rec_to_binaries/trodes_data.py:1303)\n",
      "  TrodesDataFormatWarning)\n",
      "/Users/marcin/opt/anaconda3/envs/rec_to_nwb/lib/python3.7/site-packages/pynwb/file.py:691: UserWarning: Date is missing timezone information. Updating to local timezone.\n",
      "  warn(\"Date is missing timezone information. Updating to local timezone.\")\n",
      "/Users/marcin/opt/anaconda3/envs/rec_to_nwb/lib/python3.7/site-packages/rec_to_binaries/read_binaries.py:76: FutureWarning: Passing (type, 1) or '1type' as a synonym of type is deprecated; in a future version of numpy, it will be understood as (type, (1,)) / '(1,)type'.\n",
      "  return np.dtype(typearr)\n",
      "ERROR:root:Following key: 23206543 does not exist!'23206543'\n",
      "Traceback (most recent call last):\n",
      "  File \"../../src/processing/nwb_builder/nwb_builder_tools/binary_data.py\", line 103, in read_data\n",
      "    value = continuous_time_dict[key]\n",
      "KeyError: '23206543'\n",
      "ERROR:root:Following key: 23207135 does not exist!'23207135'\n",
      "Traceback (most recent call last):\n",
      "  File \"../../src/processing/nwb_builder/nwb_builder_tools/binary_data.py\", line 103, in read_data\n",
      "    value = continuous_time_dict[key]\n",
      "KeyError: '23207135'\n",
      "ERROR:root:Following key: 23206543 does not exist!'23206543'\n",
      "Traceback (most recent call last):\n",
      "  File \"../../src/processing/nwb_builder/nwb_builder_tools/binary_data.py\", line 103, in read_data\n",
      "    value = continuous_time_dict[key]\n",
      "KeyError: '23206543'\n",
      "ERROR:root:Following key: 23207135 does not exist!'23207135'\n",
      "Traceback (most recent call last):\n",
      "  File \"../../src/processing/nwb_builder/nwb_builder_tools/binary_data.py\", line 103, in read_data\n",
      "    value = continuous_time_dict[key]\n",
      "KeyError: '23207135'\n"
     ]
    },
    {
     "name": "stdout",
     "output_type": "stream",
     "text": [
      "root pynwb.file.NWBFile at 0x4928320400\n",
      "Fields:\n",
      "  acquisition: {\n",
      "    e-series <class 'pynwb.ecephys.ElectricalSeries'>\n",
      "  }\n",
      "  devices: {\n",
      "    0 <class 'src.processing.extension.probe.Probe'>,\n",
      "    1 <class 'src.processing.extension.probe.Probe'>\n",
      "  }\n",
      "  electrode_groups: {\n",
      "    electrode group 0 <class 'src.processing.extension.nwb_electrode_group.NwbElectrodeGroup'>,\n",
      "    electrode group 1 <class 'src.processing.extension.nwb_electrode_group.NwbElectrodeGroup'>,\n",
      "    ntrode 1 <class 'src.processing.extension.ntrode.NTrode'>,\n",
      "    ntrode 2 <class 'src.processing.extension.ntrode.NTrode'>,\n",
      "    ntrode 3 <class 'src.processing.extension.ntrode.NTrode'>,\n",
      "    ntrode 4 <class 'src.processing.extension.ntrode.NTrode'>,\n",
      "    ntrode 5 <class 'src.processing.extension.ntrode.NTrode'>,\n",
      "    ntrode 6 <class 'src.processing.extension.ntrode.NTrode'>,\n",
      "    ntrode 7 <class 'src.processing.extension.ntrode.NTrode'>,\n",
      "    ntrode 8 <class 'src.processing.extension.ntrode.NTrode'>\n",
      "  }\n",
      "  electrodes: electrodes <class 'hdmf.common.table.DynamicTable'>\n",
      "  experiment_description: Reinforcement learning\n",
      "  experimenter: Alison Comrie\n",
      "  file_create_date: [datetime.datetime(2020, 2, 3, 20, 35, 59, 964119, tzinfo=tzlocal())]\n",
      "  identifier: 67ed69a2-46bc-11ea-ab89-acde48001122\n",
      "  institution: University of California, San Francisco\n",
      "  lab: Loren Frank\n",
      "  processing: {\n",
      "    behavior <class 'pynwb.base.ProcessingModule'>\n",
      "  }\n",
      "  session_description: Reinforcement leaarning\n",
      "  session_start_time: 2019-07-18 20:15:30+02:00\n",
      "  subject: subject pynwb.file.Subject at 0x4917055312\n",
      "Fields:\n",
      "  description: Long Evans Rat\n",
      "  genotype: Wild Type\n",
      "  sex: Male\n",
      "  species: Rat\n",
      "  subject_id: Beans\n",
      "  weight: Unknown\n",
      "\n",
      "  timestamps_reference_time: 2019-07-18 20:15:30+02:00\n",
      "\n",
      "CPU times: user 4min 33s, sys: 17.2 s, total: 4min 51s\n",
      "Wall time: 4min 52s\n"
     ]
    }
   ],
   "source": [
    "%%time\n",
    "content = builder.build_nwb()\n",
    "print(content)\n",
    "#expected warnings from rec_to_binaries"
   ]
  },
  {
   "cell_type": "markdown",
   "metadata": {},
   "source": [
    "# Cleanup preprocessed data"
   ]
  },
  {
   "cell_type": "code",
   "execution_count": 22,
   "metadata": {},
   "outputs": [],
   "source": [
    "builder.cleanup()"
   ]
  },
  {
   "cell_type": "code",
   "execution_count": null,
   "metadata": {},
   "outputs": [],
   "source": []
  }
 ],
 "metadata": {
  "kernelspec": {
   "display_name": "Python 3",
   "language": "python",
   "name": "python3"
  },
  "language_info": {
   "codemirror_mode": {
    "name": "ipython",
    "version": 3
   },
   "file_extension": ".py",
   "mimetype": "text/x-python",
   "name": "python",
   "nbconvert_exporter": "python",
   "pygments_lexer": "ipython3",
   "version": "3.7.4"
  }
 },
 "nbformat": 4,
 "nbformat_minor": 2
}
