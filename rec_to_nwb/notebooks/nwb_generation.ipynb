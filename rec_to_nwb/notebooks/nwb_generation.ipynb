{
 "cells": [
  {
   "cell_type": "markdown",
   "metadata": {},
   "source": [
    "#  NWB File generation from raw data"
   ]
  },
  {
   "cell_type": "code",
   "execution_count": 6,
   "metadata": {},
   "outputs": [],
   "source": [
    "%reload_ext autoreload\n",
    "%autoreload 2"
   ]
  },
  {
   "cell_type": "code",
   "execution_count": 7,
   "metadata": {},
   "outputs": [],
   "source": [
    "import os\n",
    "import logging\n",
    "import sys\n",
    "sys.path.append(\"../../\")\n",
    "from rec_to_nwb.processing.nwb_file_builder import NWBFileBuilder\n",
    "from rec_to_binaries import extract_trodes_rec_file\n",
    "from rec_to_nwb.processing.raw_to_nwb_builder import RawToNWBBuilder\n",
    "from rec_to_nwb.processing.metadata.metadata_manager import MetadataManager\n"
   ]
  },
  {
   "cell_type": "markdown",
   "metadata": {},
   "source": [
    "## Current dir and file structure before running extraction"
   ]
  },
  {
   "cell_type": "code",
   "execution_count": 8,
   "metadata": {},
   "outputs": [
    {
     "name": "stdout",
     "output_type": "stream",
     "text": [
      "C:\\Workspace\\Python\\rec_to_nwb\\rec_to_nwb\\notebooks\n"
     ]
    }
   ],
   "source": [
    "print(os.getcwd())\n"
   ]
  },
  {
   "cell_type": "markdown",
   "metadata": {},
   "source": [
    "## Setup your config parameters"
   ]
  },
  {
   "cell_type": "code",
   "execution_count": 9,
   "metadata": {},
   "outputs": [
    {
     "ename": "MissingDataException",
     "evalue": "MissingDataException, metadata.yml\nprobe1.yml\nprobe2.yml\nprobe3.yml\n ",
     "output_type": "error",
     "traceback": [
      "\u001b[1;31m---------------------------------------------------------------------------\u001b[0m",
      "\u001b[1;31mMissingDataException\u001b[0m                      Traceback (most recent call last)",
      "\u001b[1;32m<ipython-input-9-a6bcaa431d35>\u001b[0m in \u001b[0;36m<module>\u001b[1;34m\u001b[0m\n\u001b[0;32m      3\u001b[0m     ['probe1.yml',\n\u001b[0;32m      4\u001b[0m      \u001b[1;34m'probe2.yml'\u001b[0m\u001b[1;33m,\u001b[0m\u001b[1;33m\u001b[0m\u001b[1;33m\u001b[0m\u001b[0m\n\u001b[1;32m----> 5\u001b[1;33m      'probe3.yml']\n\u001b[0m\u001b[0;32m      6\u001b[0m )\n\u001b[0;32m      7\u001b[0m \u001b[0mprint\u001b[0m\u001b[1;33m(\u001b[0m\u001b[0mmetadata\u001b[0m\u001b[1;33m)\u001b[0m\u001b[1;33m\u001b[0m\u001b[1;33m\u001b[0m\u001b[0m\n",
      "\u001b[1;32mC:\\Workspace\\Python\\rec_to_nwb\\rec_to_nwb\\processing\\tools\\beartype\\beartype.py\u001b[0m in \u001b[0;36mfunc_beartyped\u001b[1;34m(__beartype_func, *args, **kwargs)\u001b[0m\n",
      "\u001b[1;32mC:\\Workspace\\Python\\rec_to_nwb\\rec_to_nwb\\processing\\metadata\\metadata_manager.py\u001b[0m in \u001b[0;36m__init__\u001b[1;34m(self, metadata_path, probes_paths)\u001b[0m\n\u001b[0;32m     16\u001b[0m     \u001b[1;33m@\u001b[0m\u001b[0mbeartype\u001b[0m\u001b[1;33m\u001b[0m\u001b[1;33m\u001b[0m\u001b[0m\n\u001b[0;32m     17\u001b[0m     \u001b[1;32mdef\u001b[0m \u001b[0m__init__\u001b[0m\u001b[1;33m(\u001b[0m\u001b[0mself\u001b[0m\u001b[1;33m,\u001b[0m \u001b[0mmetadata_path\u001b[0m\u001b[1;33m:\u001b[0m \u001b[0mstr\u001b[0m\u001b[1;33m,\u001b[0m \u001b[0mprobes_paths\u001b[0m\u001b[1;33m:\u001b[0m \u001b[0mlist\u001b[0m\u001b[1;33m)\u001b[0m\u001b[1;33m:\u001b[0m\u001b[1;33m\u001b[0m\u001b[1;33m\u001b[0m\u001b[0m\n\u001b[1;32m---> 18\u001b[1;33m         \u001b[0mself\u001b[0m\u001b[1;33m.\u001b[0m\u001b[0m__validate\u001b[0m\u001b[1;33m(\u001b[0m\u001b[0mmetadata_path\u001b[0m\u001b[1;33m,\u001b[0m \u001b[0mprobes_paths\u001b[0m\u001b[1;33m)\u001b[0m\u001b[1;33m\u001b[0m\u001b[1;33m\u001b[0m\u001b[0m\n\u001b[0m\u001b[0;32m     19\u001b[0m \u001b[1;33m\u001b[0m\u001b[0m\n\u001b[0;32m     20\u001b[0m         \u001b[0mself\u001b[0m\u001b[1;33m.\u001b[0m\u001b[0mprobes_paths\u001b[0m \u001b[1;33m=\u001b[0m \u001b[0mprobes_paths\u001b[0m\u001b[1;33m\u001b[0m\u001b[1;33m\u001b[0m\u001b[0m\n",
      "\u001b[1;32mC:\\Workspace\\Python\\rec_to_nwb\\rec_to_nwb\\processing\\metadata\\metadata_manager.py\u001b[0m in \u001b[0;36m__validate\u001b[1;34m(metadata_path, probes_paths)\u001b[0m\n\u001b[0;32m     31\u001b[0m         \u001b[0mvalidation_registrator\u001b[0m \u001b[1;33m=\u001b[0m \u001b[0mValidationRegistrator\u001b[0m\u001b[1;33m(\u001b[0m\u001b[1;33m)\u001b[0m\u001b[1;33m\u001b[0m\u001b[1;33m\u001b[0m\u001b[0m\n\u001b[0;32m     32\u001b[0m         \u001b[0mvalidation_registrator\u001b[0m\u001b[1;33m.\u001b[0m\u001b[0mregister\u001b[0m\u001b[1;33m(\u001b[0m\u001b[0mMetadataValidator\u001b[0m\u001b[1;33m(\u001b[0m\u001b[0mmetadata_path\u001b[0m\u001b[1;33m,\u001b[0m \u001b[0mprobes_paths\u001b[0m\u001b[1;33m)\u001b[0m\u001b[1;33m)\u001b[0m\u001b[1;33m\u001b[0m\u001b[1;33m\u001b[0m\u001b[0m\n\u001b[1;32m---> 33\u001b[1;33m         \u001b[0mvalidation_registrator\u001b[0m\u001b[1;33m.\u001b[0m\u001b[0mvalidate\u001b[0m\u001b[1;33m(\u001b[0m\u001b[1;33m)\u001b[0m\u001b[1;33m\u001b[0m\u001b[1;33m\u001b[0m\u001b[0m\n\u001b[0m\u001b[0;32m     34\u001b[0m \u001b[1;33m\u001b[0m\u001b[0m\n\u001b[0;32m     35\u001b[0m     \u001b[1;32mdef\u001b[0m \u001b[0m__get_metadata\u001b[0m\u001b[1;33m(\u001b[0m\u001b[0mself\u001b[0m\u001b[1;33m,\u001b[0m \u001b[0mmetadata_path\u001b[0m\u001b[1;33m)\u001b[0m\u001b[1;33m:\u001b[0m\u001b[1;33m\u001b[0m\u001b[1;33m\u001b[0m\u001b[0m\n",
      "\u001b[1;32mC:\\Workspace\\Python\\rec_to_nwb\\rec_to_nwb\\processing\\validation\\validation_registrator.py\u001b[0m in \u001b[0;36mvalidate\u001b[1;34m(self)\u001b[0m\n\u001b[0;32m     14\u001b[0m     \u001b[1;32mdef\u001b[0m \u001b[0mvalidate\u001b[0m\u001b[1;33m(\u001b[0m\u001b[0mself\u001b[0m\u001b[1;33m)\u001b[0m\u001b[1;33m:\u001b[0m\u001b[1;33m\u001b[0m\u001b[1;33m\u001b[0m\u001b[0m\n\u001b[0;32m     15\u001b[0m         \u001b[1;32mfor\u001b[0m \u001b[0mvalidator\u001b[0m \u001b[1;32min\u001b[0m \u001b[0mself\u001b[0m\u001b[1;33m.\u001b[0m\u001b[0mvalidators\u001b[0m\u001b[1;33m:\u001b[0m\u001b[1;33m\u001b[0m\u001b[1;33m\u001b[0m\u001b[0m\n\u001b[1;32m---> 16\u001b[1;33m             \u001b[0mresult\u001b[0m \u001b[1;33m=\u001b[0m \u001b[0mvalidator\u001b[0m\u001b[1;33m.\u001b[0m\u001b[0mcreate_summary\u001b[0m\u001b[1;33m(\u001b[0m\u001b[1;33m)\u001b[0m\u001b[1;33m\u001b[0m\u001b[1;33m\u001b[0m\u001b[0m\n\u001b[0m\u001b[0;32m     17\u001b[0m             \u001b[1;32mif\u001b[0m \u001b[1;32mnot\u001b[0m \u001b[0mresult\u001b[0m\u001b[1;33m.\u001b[0m\u001b[0mis_valid\u001b[0m\u001b[1;33m:\u001b[0m\u001b[1;33m\u001b[0m\u001b[1;33m\u001b[0m\u001b[0m\n\u001b[0;32m     18\u001b[0m                 \u001b[1;32mraise\u001b[0m \u001b[0mInvalidInputException\u001b[0m\u001b[1;33m(\u001b[0m\u001b[1;34m\"Validation: \"\u001b[0m \u001b[1;33m+\u001b[0m \u001b[0mstr\u001b[0m\u001b[1;33m(\u001b[0m\u001b[0mtype\u001b[0m\u001b[1;33m(\u001b[0m\u001b[0mvalidator\u001b[0m\u001b[1;33m)\u001b[0m\u001b[1;33m)\u001b[0m \u001b[1;33m+\u001b[0m \u001b[1;34m\"has failed!\"\u001b[0m\u001b[1;33m)\u001b[0m\u001b[1;33m\u001b[0m\u001b[1;33m\u001b[0m\u001b[0m\n",
      "\u001b[1;32mC:\\Workspace\\Python\\rec_to_nwb\\rec_to_nwb\\processing\\validation\\metadata_validator.py\u001b[0m in \u001b[0;36mcreate_summary\u001b[1;34m(self)\u001b[0m\n\u001b[0;32m     27\u001b[0m             \u001b[1;32mfor\u001b[0m \u001b[0mmissing_metadata_file\u001b[0m \u001b[1;32min\u001b[0m \u001b[0mmissing_metadata\u001b[0m\u001b[1;33m:\u001b[0m\u001b[1;33m\u001b[0m\u001b[1;33m\u001b[0m\u001b[0m\n\u001b[0;32m     28\u001b[0m                 \u001b[0mmessage\u001b[0m \u001b[1;33m+=\u001b[0m \u001b[0mmissing_metadata_file\u001b[0m \u001b[1;33m+\u001b[0m \u001b[1;34m'\\n'\u001b[0m\u001b[1;33m\u001b[0m\u001b[1;33m\u001b[0m\u001b[0m\n\u001b[1;32m---> 29\u001b[1;33m             \u001b[1;32mraise\u001b[0m\u001b[1;33m(\u001b[0m\u001b[0mMissingDataException\u001b[0m\u001b[1;33m(\u001b[0m\u001b[0mmessage\u001b[0m\u001b[1;33m)\u001b[0m\u001b[1;33m)\u001b[0m\u001b[1;33m\u001b[0m\u001b[1;33m\u001b[0m\u001b[0m\n\u001b[0m\u001b[0;32m     30\u001b[0m         \u001b[1;32mreturn\u001b[0m \u001b[0mMetadataValidationSummary\u001b[0m\u001b[1;33m(\u001b[0m\u001b[0mmissing_metadata\u001b[0m\u001b[1;33m)\u001b[0m\u001b[1;33m\u001b[0m\u001b[1;33m\u001b[0m\u001b[0m\n\u001b[0;32m     31\u001b[0m \u001b[1;33m\u001b[0m\u001b[0m\n",
      "\u001b[1;31mMissingDataException\u001b[0m: MissingDataException, metadata.yml\nprobe1.yml\nprobe2.yml\nprobe3.yml\n "
     ]
    }
   ],
   "source": [
    "metadata = MetadataManager(\n",
    "    'metadata.yml',\n",
    "    ['probe1.yml',\n",
    "     'probe2.yml',\n",
    "     'probe3.yml']\n",
    ")\n",
    "print(metadata)"
   ]
  },
  {
   "cell_type": "markdown",
   "metadata": {},
   "source": [
    "# Processing initiation"
   ]
  },
  {
   "cell_type": "code",
   "execution_count": 11,
   "metadata": {},
   "outputs": [],
   "source": [
    "builder = RawToNWBBuilder(\n",
    "    animal_name='beans',\n",
    "    data_path='../test/test_data/',\n",
    "    dates=['20190718'],\n",
    "    nwb_metadata=metadata,\n",
    "    associated_files=['../test/test_data/af1', '../test/test_data/af2']                                       \n",
    ")"
   ]
  },
  {
   "cell_type": "markdown",
   "metadata": {},
   "source": [
    "## Run processing and create nwb file"
   ]
  },
  {
   "cell_type": "code",
   "execution_count": 5,
   "metadata": {},
   "outputs": [
    {
     "name": "stderr",
     "output_type": "stream",
     "text": [
      "/Users/marcin/opt/anaconda3/envs/rec_to_nwb/lib/python3.7/site-packages/rec_to_binaries/trodes_data.py:1362: TrodesDataFormatWarning: TrodesDataFormatError('skipping rec file 20190718_beans_01_s1.rec for extracting, folder ../test/test_data/beans/preprocessing/20190718/20190718_beans_01_s1.DIO already exists and overwrite=False.') (thrown from /Users/marcin/opt/anaconda3/envs/rec_to_nwb/lib/python3.7/site-packages/rec_to_binaries/trodes_data.py:1303)\n",
      "  TrodesDataFormatWarning)\n",
      "/Users/marcin/opt/anaconda3/envs/rec_to_nwb/lib/python3.7/site-packages/rec_to_binaries/trodes_data.py:1362: TrodesDataFormatWarning: TrodesDataFormatError('skipping rec file 20190718_beans_01_s1.rec for extracting, folder ../test/test_data/beans/preprocessing/20190718/20190718_beans_01_s1.mda already exists and overwrite=False.') (thrown from /Users/marcin/opt/anaconda3/envs/rec_to_nwb/lib/python3.7/site-packages/rec_to_binaries/trodes_data.py:1303)\n",
      "  TrodesDataFormatWarning)\n",
      "/Users/marcin/opt/anaconda3/envs/rec_to_nwb/lib/python3.7/site-packages/rec_to_binaries/trodes_data.py:1362: TrodesDataFormatWarning: TrodesDataFormatError('skipping rec file 20190718_beans_01_s1.rec for extracting, folder ../test/test_data/beans/preprocessing/20190718/20190718_beans_01_s1.time already exists and overwrite=False.') (thrown from /Users/marcin/opt/anaconda3/envs/rec_to_nwb/lib/python3.7/site-packages/rec_to_binaries/trodes_data.py:1303)\n",
      "  TrodesDataFormatWarning)\n",
      "/Users/marcin/opt/anaconda3/envs/rec_to_nwb/lib/python3.7/site-packages/pynwb/file.py:691: UserWarning: Date is missing timezone information. Updating to local timezone.\n",
      "  warn(\"Date is missing timezone information. Updating to local timezone.\")\n",
      "/Users/marcin/opt/anaconda3/envs/rec_to_nwb/lib/python3.7/site-packages/rec_to_binaries/read_binaries.py:76: FutureWarning: Passing (type, 1) or '1type' as a synonym of type is deprecated; in a future version of numpy, it will be understood as (type, (1,)) / '(1,)type'.\n",
      "  return np.dtype(typearr)\n",
      "ERROR:root:Following key: 23206543 does not exist!'23206543'\n",
      "Traceback (most recent call last):\n",
      "  File \"../../src/processing/nwb_builder/nwb_builder_tools/binary_data.py\", line 103, in read_data\n",
      "    value = continuous_time_dict[key]\n",
      "KeyError: '23206543'\n",
      "ERROR:root:Following key: 23207135 does not exist!'23207135'\n",
      "Traceback (most recent call last):\n",
      "  File \"../../src/processing/nwb_builder/nwb_builder_tools/binary_data.py\", line 103, in read_data\n",
      "    value = continuous_time_dict[key]\n",
      "KeyError: '23207135'\n",
      "ERROR:root:Following key: 23206543 does not exist!'23206543'\n",
      "Traceback (most recent call last):\n",
      "  File \"../../src/processing/nwb_builder/nwb_builder_tools/binary_data.py\", line 103, in read_data\n",
      "    value = continuous_time_dict[key]\n",
      "KeyError: '23206543'\n",
      "ERROR:root:Following key: 23207135 does not exist!'23207135'\n",
      "Traceback (most recent call last):\n",
      "  File \"../../src/processing/nwb_builder/nwb_builder_tools/binary_data.py\", line 103, in read_data\n",
      "    value = continuous_time_dict[key]\n",
      "KeyError: '23207135'\n"
     ]
    },
    {
     "name": "stdout",
     "output_type": "stream",
     "text": [
      "root pynwb.file.NWBFile at 0x4928320400\n",
      "Fields:\n",
      "  acquisition: {\n",
      "    e-series <class 'pynwb.ecephys.ElectricalSeries'>\n",
      "  }\n",
      "  devices: {\n",
      "    0 <class 'src.processing.extension.probe.Probe'>,\n",
      "    1 <class 'src.processing.extension.probe.Probe'>\n",
      "  }\n",
      "  electrode_groups: {\n",
      "    electrode group 0 <class 'src.processing.extension.nwb_electrode_group.NwbElectrodeGroup'>,\n",
      "    electrode group 1 <class 'src.processing.extension.nwb_electrode_group.NwbElectrodeGroup'>,\n",
      "    ntrode 1 <class 'src.processing.extension.ntrode.NTrode'>,\n",
      "    ntrode 2 <class 'src.processing.extension.ntrode.NTrode'>,\n",
      "    ntrode 3 <class 'src.processing.extension.ntrode.NTrode'>,\n",
      "    ntrode 4 <class 'src.processing.extension.ntrode.NTrode'>,\n",
      "    ntrode 5 <class 'src.processing.extension.ntrode.NTrode'>,\n",
      "    ntrode 6 <class 'src.processing.extension.ntrode.NTrode'>,\n",
      "    ntrode 7 <class 'src.processing.extension.ntrode.NTrode'>,\n",
      "    ntrode 8 <class 'src.processing.extension.ntrode.NTrode'>\n",
      "  }\n",
      "  electrodes: electrodes <class 'hdmf.common.table.DynamicTable'>\n",
      "  experiment_description: Reinforcement learning\n",
      "  experimenter: Alison Comrie\n",
      "  file_create_date: [datetime.datetime(2020, 2, 3, 20, 35, 59, 964119, tzinfo=tzlocal())]\n",
      "  identifier: 67ed69a2-46bc-11ea-ab89-acde48001122\n",
      "  institution: University of California, San Francisco\n",
      "  lab: Loren Frank\n",
      "  processing: {\n",
      "    behavior <class 'pynwb.base.ProcessingModule'>\n",
      "  }\n",
      "  session_description: Reinforcement leaarning\n",
      "  session_start_time: 2019-07-18 20:15:30+02:00\n",
      "  subject: subject pynwb.file.Subject at 0x4917055312\n",
      "Fields:\n",
      "  description: Long Evans Rat\n",
      "  genotype: Wild Type\n",
      "  sex: Male\n",
      "  species: Rat\n",
      "  subject_id: Beans\n",
      "  weight: Unknown\n",
      "\n",
      "  timestamps_reference_time: 2019-07-18 20:15:30+02:00\n",
      "\n",
      "CPU times: user 4min 33s, sys: 17.2 s, total: 4min 51s\n",
      "Wall time: 4min 52s\n"
     ]
    }
   ],
   "source": [
    "%%time\n",
    "content = builder.build_nwb()\n",
    "print(content)\n",
    "\n",
    "builder.write(content)\n",
    "#expected warnings from rec_to_binaries"
   ]
  },
  {
   "cell_type": "markdown",
   "metadata": {},
   "source": [
    "## Append mda and pos valid/invalid times to nwb file"
   ]
  },
  {
   "cell_type": "code",
   "execution_count": null,
   "metadata": {},
   "outputs": [],
   "source": [
    "builder.build_and_append_to_nwb(\n",
    "    process_mda_valid_time=True,\n",
    "    process_mda_invalid_time=True,\n",
    "    process_pos_valid_time=True,\n",
    "    process_pos_invalid_time=True\n",
    ")"
   ]
  },
  {
   "cell_type": "markdown",
   "metadata": {},
   "source": [
    "# Cleanup preprocessed data"
   ]
  },
  {
   "cell_type": "code",
   "execution_count": 22,
   "metadata": {},
   "outputs": [],
   "source": [
    "builder.cleanup()"
   ]
  }
 ],
 "metadata": {
  "kernelspec": {
   "display_name": "Python 3",
   "language": "python",
   "name": "python3"
  },
  "language_info": {
   "codemirror_mode": {
    "name": "ipython",
    "version": 3
   },
   "file_extension": ".py",
   "mimetype": "text/x-python",
   "name": "python",
   "nbconvert_exporter": "python",
   "pygments_lexer": "ipython3",
   "version": "3.7.4"
  }
 },
 "nbformat": 4,
 "nbformat_minor": 2
}
