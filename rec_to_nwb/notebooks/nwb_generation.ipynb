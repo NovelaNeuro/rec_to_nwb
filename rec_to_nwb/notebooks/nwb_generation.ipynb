{
 "cells": [
  {
   "cell_type": "markdown",
   "metadata": {},
   "source": [
    "#  NWB File generation from raw data"
   ]
  },
  {
   "cell_type": "code",
   "execution_count": 1,
   "metadata": {},
   "outputs": [],
   "source": [
    "%reload_ext autoreload\n",
    "%autoreload 2"
   ]
  },
  {
   "cell_type": "code",
   "execution_count": 2,
   "metadata": {},
   "outputs": [],
   "source": [
    "import os\n",
    "import logging\n",
    "import sys\n",
    "sys.path.append(\"../../\")\n",
    "from rec_to_nwb.processing.builder.nwb_file_builder import NWBFileBuilder\n",
    "from rec_to_binaries import extract_trodes_rec_file\n",
    "from rec_to_nwb.processing.builder.raw_to_nwb_builder import RawToNWBBuilder\n",
    "from rec_to_nwb.processing.metadata.metadata_manager import MetadataManager\n"
   ]
  },
  {
   "cell_type": "markdown",
   "metadata": {},
   "source": [
    "## Current dir and file structure before running the extraction"
   ]
  },
  {
   "cell_type": "code",
   "execution_count": 3,
   "metadata": {},
   "outputs": [
    {
     "name": "stdout",
     "output_type": "stream",
     "text": [
      "C:\\Users\\wbodo\\Desktop\\rec2nwb\\rec_to_nwb\\rec_to_nwb\\notebooks\n"
     ]
    }
   ],
   "source": [
    "print(os.getcwd())\n"
   ]
  },
  {
   "cell_type": "markdown",
   "metadata": {},
   "source": [
    "## Setup your config parameters"
   ]
  },
  {
   "cell_type": "code",
   "execution_count": 4,
   "metadata": {},
   "outputs": [
    {
     "name": "stdout",
     "output_type": "stream",
     "text": [
      "Experiment Info:\n",
      "Experimenter: Alison Comrie\n",
      "Description: Reinforcement learning\n",
      "Session Id: beans_01\n",
      "Subject: Long Evans Rat\n",
      "\n",
      "Available probe types: ['tetrode_12.5', '32c-2s8mm6cm-20um-40um-dl', '128c-4s8mm6cm-20um-40um-sl']\n"
     ]
    }
   ],
   "source": [
    "metadata = MetadataManager(\n",
    "    'C:/Users/wbodo/Desktop/rec2nwb/rec_to_nwb/rec_to_nwb/test/processing/res/metadata.yml',\n",
    "    ['C:/Users/wbodo/Desktop/rec2nwb/rec_to_nwb/rec_to_nwb/test/processing/res/probe1.yml',\n",
    "     'C:/Users/wbodo/Desktop/rec2nwb/rec_to_nwb/rec_to_nwb/test/processing/res/probe2.yml',\n",
    "     'C:/Users/wbodo/Desktop/rec2nwb/rec_to_nwb/rec_to_nwb/test/processing/res/probe3.yml']\n",
    ")\n",
    "print(metadata)"
   ]
  },
  {
   "cell_type": "markdown",
   "metadata": {},
   "source": [
    "## Processing initiation"
   ]
  },
  {
   "cell_type": "code",
   "execution_count": 5,
   "metadata": {},
   "outputs": [],
   "source": [
    "builder = RawToNWBBuilder(\n",
    "    animal_name='beans',\n",
    "    data_path='C:/Users/wbodo/Desktop/resy/test/',\n",
    "    dates=['20190718'],\n",
    "    nwb_metadata=metadata,\n",
    ")"
   ]
  },
  {
   "cell_type": "markdown",
   "metadata": {},
   "source": [
    "## Run processing and create the nwb file "
   ]
  },
  {
   "cell_type": "code",
   "execution_count": null,
   "metadata": {},
   "outputs": [
    {
     "name": "stdout",
     "output_type": "stream",
     "text": [
      "(ID: 0) Running exportanalog on animal beans date 20190718 epoch 01\n",
      "(ID: 0) Full command: ['exportanalog', '-rec', 'C:/Users/wbodo/Desktop/resy/test/beans\\\\raw\\\\20190718\\\\20190718_beans_01_s1.rec', '-outputdirectory', 'C:/Users/wbodo/Desktop/resy/test/beans\\\\preprocessing\\\\20190718', '-output', '20190718_beans_01_s1']\n",
      "(ID: 1) Running exportanalog on animal beans date 20190718 epoch 03\n",
      "(ID: 1) Full command: ['exportanalog', '-rec', 'C:/Users/wbodo/Desktop/resy/test/beans\\\\raw\\\\20190718\\\\20190718_beans_03_s2.rec', '-outputdirectory', 'C:/Users/wbodo/Desktop/resy/test/beans\\\\preprocessing\\\\20190718', '-output', '20190718_beans_03_s2']\n",
      "(ID: 0) Done running ['exportanalog', '-rec', 'C:/Users/wbodo/Desktop/resy/test/beans\\\\raw\\\\20190718\\\\20190718_beans_01_s1.rec', '-outputdirectory', 'C:/Users/wbodo/Desktop/resy/test/beans\\\\preprocessing\\\\20190718', '-output', '20190718_beans_01_s1']\n",
      "(ID: 0) exportanalog -rec C:/Users/wbodo/Desktop/resy/test/beans\\raw\\20190718\\20190718_beans_01_s1.rec -outputdirectory C:/Users/wbodo/Desktop/resy/test/beans\\preprocessing\\20190718 -output 20190718_beans_01_s1\n",
      "(ID: 0) Exporting analog data...\n",
      "(ID: 0) 0 %\n",
      "(ID: 0) 5 %\n",
      "(ID: 0) 10 %\n",
      "(ID: 0) 15 %\n",
      "(ID: 0) 20 %\n",
      "(ID: 0) 25 %\n",
      "(ID: 0) 30 %\n",
      "(ID: 0) 35 %\n",
      "(ID: 0) 39 %\n",
      "(ID: 0) 45 %\n",
      "(ID: 0) 50 %\n",
      "(ID: 0) 54 %\n",
      "(ID: 0) 60 %\n",
      "(ID: 0) 65 %\n",
      "(ID: 0) 69 %\n",
      "(ID: 0) 75 %\n",
      "(ID: 0) 80 %\n",
      "(ID: 0) 84 %\n",
      "(ID: 0) 90 %\n",
      "(ID: 0) 95 %\n",
      "(ID: 0) \n",
      "(ID: 0) Done\n",
      "(ID: 1) Done running ['exportanalog', '-rec', 'C:/Users/wbodo/Desktop/resy/test/beans\\\\raw\\\\20190718\\\\20190718_beans_03_s2.rec', '-outputdirectory', 'C:/Users/wbodo/Desktop/resy/test/beans\\\\preprocessing\\\\20190718', '-output', '20190718_beans_03_s2']\n",
      "(ID: 1) Exporting analog data...\n",
      "(ID: 1) 0 %\n",
      "(ID: 1) 5 %\n",
      "(ID: 1) 10 %\n",
      "(ID: 1) 15 %\n",
      "(ID: 1) 20 %\n",
      "(ID: 1) 25 %\n",
      "(ID: 1) 30 %\n",
      "(ID: 1) 35 %\n",
      "(ID: 1) 40 %\n",
      "(ID: 1) 45 %\n",
      "(ID: 1) 50 %\n",
      "(ID: 1) 55 %\n",
      "(ID: 1) 60 %\n",
      "(ID: 1) 65 %\n",
      "(ID: 1) 70 %\n",
      "(ID: 1) 75 %\n",
      "(ID: 1) 80 %\n",
      "(ID: 1) 85 %\n",
      "(ID: 1) 90 %\n",
      "(ID: 1) 95 %\n",
      "(ID: 1) \n",
      "(ID: 1) Done\n",
      "(ID: 0) Running exportdio on animal beans date 20190718 epoch 01\n",
      "(ID: 0) Full command: ['exportdio', '-rec', 'C:/Users/wbodo/Desktop/resy/test/beans\\\\raw\\\\20190718\\\\20190718_beans_01_s1.rec', '-outputdirectory', 'C:/Users/wbodo/Desktop/resy/test/beans\\\\preprocessing\\\\20190718', '-output', '20190718_beans_01_s1']\n",
      "(ID: 1) Running exportdio on animal beans date 20190718 epoch 03\n",
      "(ID: 1) Full command: ['exportdio', '-rec', 'C:/Users/wbodo/Desktop/resy/test/beans\\\\raw\\\\20190718\\\\20190718_beans_03_s2.rec', '-outputdirectory', 'C:/Users/wbodo/Desktop/resy/test/beans\\\\preprocessing\\\\20190718', '-output', '20190718_beans_03_s2']\n",
      "(ID: 0) Done running ['exportdio', '-rec', 'C:/Users/wbodo/Desktop/resy/test/beans\\\\raw\\\\20190718\\\\20190718_beans_01_s1.rec', '-outputdirectory', 'C:/Users/wbodo/Desktop/resy/test/beans\\\\preprocessing\\\\20190718', '-output', '20190718_beans_01_s1']\n",
      "(ID: 0) exportdio -rec C:/Users/wbodo/Desktop/resy/test/beans\\raw\\20190718\\20190718_beans_01_s1.rec -outputdirectory C:/Users/wbodo/Desktop/resy/test/beans\\preprocessing\\20190718 -output 20190718_beans_01_s1\n",
      "(ID: 0) Exporting DIO data...\n",
      "(ID: 0) 0 %\n",
      "(ID: 0) 5 %\n",
      "(ID: 0) 10 %\n",
      "(ID: 0) 15 %\n",
      "(ID: 0) 20 %\n",
      "(ID: 0) 25 %\n",
      "(ID: 0) 30 %\n",
      "(ID: 0) 35 %\n",
      "(ID: 0) 39 %\n",
      "(ID: 0) 45 %\n",
      "(ID: 0) 50 %\n",
      "(ID: 0) 54 %\n",
      "(ID: 0) 60 %\n",
      "(ID: 0) 65 %\n",
      "(ID: 0) 69 %\n",
      "(ID: 0) 75 %\n",
      "(ID: 0) 80 %\n",
      "(ID: 0) 84 %\n",
      "(ID: 0) 90 %\n",
      "(ID: 0) 95 %\n",
      "(ID: 0) \n",
      "(ID: 0) Done\n",
      "(ID: 1) Done running ['exportdio', '-rec', 'C:/Users/wbodo/Desktop/resy/test/beans\\\\raw\\\\20190718\\\\20190718_beans_03_s2.rec', '-outputdirectory', 'C:/Users/wbodo/Desktop/resy/test/beans\\\\preprocessing\\\\20190718', '-output', '20190718_beans_03_s2']\n",
      "(ID: 1) Exporting DIO data...\n",
      "(ID: 1) 0 %\n",
      "(ID: 1) 5 %\n",
      "(ID: 1) 10 %\n",
      "(ID: 1) 15 %\n",
      "(ID: 1) 20 %\n",
      "(ID: 1) 25 %\n",
      "(ID: 1) 30 %\n",
      "(ID: 1) 35 %\n",
      "(ID: 1) 40 %\n",
      "(ID: 1) 45 %\n",
      "(ID: 1) 50 %\n",
      "(ID: 1) 55 %\n",
      "(ID: 1) 60 %\n",
      "(ID: 1) 65 %\n",
      "(ID: 1) 70 %\n",
      "(ID: 1) 75 %\n",
      "(ID: 1) 80 %\n",
      "(ID: 1) 85 %\n",
      "(ID: 1) 90 %\n",
      "(ID: 1) 95 %\n",
      "(ID: 1) \n",
      "(ID: 1) Done\n",
      "(ID: 0) Running exportmda on animal beans date 20190718 epoch 01\n",
      "(ID: 0) Full command: ['exportmda', '-rec', 'C:/Users/wbodo/Desktop/resy/test/beans\\\\raw\\\\20190718\\\\20190718_beans_01_s1.rec', '-outputdirectory', 'C:/Users/wbodo/Desktop/resy/test/beans\\\\preprocessing\\\\20190718', '-output', '20190718_beans_01_s1', '-usespikefilters', '0', '-interp', '0', '-userefs', '0']\n",
      "(ID: 1) Running exportmda on animal beans date 20190718 epoch 03\n",
      "(ID: 1) Full command: ['exportmda', '-rec', 'C:/Users/wbodo/Desktop/resy/test/beans\\\\raw\\\\20190718\\\\20190718_beans_03_s2.rec', '-outputdirectory', 'C:/Users/wbodo/Desktop/resy/test/beans\\\\preprocessing\\\\20190718', '-output', '20190718_beans_03_s2', '-usespikefilters', '0', '-interp', '0', '-userefs', '0']\n",
      "(ID: 0) Done running ['exportmda', '-rec', 'C:/Users/wbodo/Desktop/resy/test/beans\\\\raw\\\\20190718\\\\20190718_beans_01_s1.rec', '-outputdirectory', 'C:/Users/wbodo/Desktop/resy/test/beans\\\\preprocessing\\\\20190718', '-output', '20190718_beans_01_s1', '-usespikefilters', '0', '-interp', '0', '-userefs', '0']\n",
      "(ID: 0) For backwards compatibility, uselfpfilters and usespikefilters flags both set to 0.\n",
      "(ID: 0) Exporting to MDA format file...\n",
      "(ID: 0) exportmda -rec C:/Users/wbodo/Desktop/resy/test/beans\\raw\\20190718\\20190718_beans_01_s1.rec -outputdirectory C:/Users/wbodo/Desktop/resy/test/beans\\preprocessing\\20190718 -output 20190718_beans_01_s1 -usespikefilters 0 -interp 0 -userefs 0\n",
      "(ID: 0) 0 %\n",
      "(ID: 0) 5 %\n",
      "(ID: 0) 10 %\n",
      "(ID: 0) 15 %\n",
      "(ID: 0) 20 %\n",
      "(ID: 0) 25 %\n",
      "(ID: 0) 30 %\n",
      "(ID: 0) 35 %\n",
      "(ID: 0) 39 %\n",
      "(ID: 0) 45 %\n",
      "(ID: 0) 50 %\n",
      "(ID: 0) 54 %\n",
      "(ID: 0) 60 %\n",
      "(ID: 0) 65 %\n",
      "(ID: 0) 69 %\n",
      "(ID: 0) 75 %\n",
      "(ID: 0) 80 %\n",
      "(ID: 0) 84 %\n",
      "(ID: 0) 90 %\n",
      "(ID: 0) 95 %\n",
      "(ID: 0) \n",
      "(ID: 0) Done\n",
      "(ID: 1) Done running ['exportmda', '-rec', 'C:/Users/wbodo/Desktop/resy/test/beans\\\\raw\\\\20190718\\\\20190718_beans_03_s2.rec', '-outputdirectory', 'C:/Users/wbodo/Desktop/resy/test/beans\\\\preprocessing\\\\20190718', '-output', '20190718_beans_03_s2', '-usespikefilters', '0', '-interp', '0', '-userefs', '0']\n",
      "(ID: 1) For backwards compatibility, uselfpfilters and usespikefilters flags both set to 0.\n",
      "(ID: 1) Exporting to MDA format file...\n",
      "(ID: 1) 0 %\n",
      "(ID: 1) 5 %\n",
      "(ID: 1) 10 %\n",
      "(ID: 1) 15 %\n",
      "(ID: 1) 20 %\n",
      "(ID: 1) 25 %\n",
      "(ID: 1) 30 %\n",
      "(ID: 1) 35 %\n",
      "(ID: 1) 40 %\n",
      "(ID: 1) 45 %\n",
      "(ID: 1) 50 %\n",
      "(ID: 1) 55 %\n",
      "(ID: 1) 60 %\n",
      "(ID: 1) 65 %\n",
      "(ID: 1) 70 %\n",
      "(ID: 1) 75 %\n",
      "(ID: 1) 80 %\n",
      "(ID: 1) 85 %\n",
      "(ID: 1) 90 %\n",
      "(ID: 1) 95 %\n",
      "(ID: 1) \n",
      "(ID: 1) Done\n",
      "(ID: 0) Running exporttime on animal beans date 20190718 epoch 01\n",
      "(ID: 0) Full command: ['exporttime', '-rec', 'C:/Users/wbodo/Desktop/resy/test/beans\\\\raw\\\\20190718\\\\20190718_beans_01_s1.rec', '-outputdirectory', 'C:/Users/wbodo/Desktop/resy/test/beans\\\\preprocessing\\\\20190718', '-output', '20190718_beans_01_s1']\n",
      "(ID: 1) Running exporttime on animal beans date 20190718 epoch 03\n",
      "(ID: 1) Full command: ['exporttime', '-rec', 'C:/Users/wbodo/Desktop/resy/test/beans\\\\raw\\\\20190718\\\\20190718_beans_03_s2.rec', '-outputdirectory', 'C:/Users/wbodo/Desktop/resy/test/beans\\\\preprocessing\\\\20190718', '-output', '20190718_beans_03_s2']\n",
      "(ID: 0) Done running ['exporttime', '-rec', 'C:/Users/wbodo/Desktop/resy/test/beans\\\\raw\\\\20190718\\\\20190718_beans_01_s1.rec', '-outputdirectory', 'C:/Users/wbodo/Desktop/resy/test/beans\\\\preprocessing\\\\20190718', '-output', '20190718_beans_01_s1']\n",
      "(ID: 0) exporttime -rec C:/Users/wbodo/Desktop/resy/test/beans\\raw\\20190718\\20190718_beans_01_s1.rec -outputdirectory C:/Users/wbodo/Desktop/resy/test/beans\\preprocessing\\20190718 -output 20190718_beans_01_s1\n",
      "(ID: 0) Exporting continuous time period data...\n",
      "(ID: 0) File contains system clock information.\n",
      "(ID: 0) 0 %\n",
      "(ID: 0) 5 %\n",
      "(ID: 0) 10 %\n",
      "(ID: 0) 15 %\n",
      "(ID: 0) 20 %\n",
      "(ID: 0) 25 %\n",
      "(ID: 0) 30 %\n",
      "(ID: 0) 35 %\n",
      "(ID: 0) 39 %\n",
      "(ID: 0) 45 %\n",
      "(ID: 0) 50 %\n",
      "(ID: 0) 54 %\n",
      "(ID: 0) 60 %\n",
      "(ID: 0) 65 %\n",
      "(ID: 0) 69 %\n",
      "(ID: 0) 75 %\n",
      "(ID: 0) 80 %\n",
      "(ID: 0) 84 %\n",
      "(ID: 0) 90 %\n",
      "(ID: 0) 95 %\n",
      "(ID: 0) \n",
      "(ID: 0) Done\n",
      "(ID: 1) Done running ['exporttime', '-rec', 'C:/Users/wbodo/Desktop/resy/test/beans\\\\raw\\\\20190718\\\\20190718_beans_03_s2.rec', '-outputdirectory', 'C:/Users/wbodo/Desktop/resy/test/beans\\\\preprocessing\\\\20190718', '-output', '20190718_beans_03_s2']\n",
      "(ID: 1) Exporting continuous time period data...\n",
      "(ID: 1) File contains system clock information.\n",
      "(ID: 1) 0 %\n",
      "(ID: 1) 5 %\n",
      "(ID: 1) 10 %\n",
      "(ID: 1) 15 %\n",
      "(ID: 1) 20 %\n",
      "(ID: 1) 25 %\n",
      "(ID: 1) 30 %\n",
      "(ID: 1) 35 %\n",
      "(ID: 1) 40 %\n",
      "(ID: 1) 45 %\n",
      "(ID: 1) 50 %\n",
      "(ID: 1) 55 %\n",
      "(ID: 1) 60 %\n",
      "(ID: 1) 65 %\n",
      "(ID: 1) 70 %\n",
      "(ID: 1) 75 %\n",
      "(ID: 1) 80 %\n",
      "(ID: 1) 85 %\n",
      "(ID: 1) 90 %\n",
      "(ID: 1) 95 %\n",
      "(ID: 1) \n",
      "(ID: 1) Done\n"
     ]
    }
   ],
   "source": [
    "%%time\n",
    "builder.build_nwb()\n",
    "\n",
    "# Expected warning from rec_to_binaries"
   ]
  },
  {
   "cell_type": "markdown",
   "metadata": {},
   "source": [
    "## Cleanup the preprocessed data"
   ]
  },
  {
   "cell_type": "code",
   "execution_count": null,
   "metadata": {},
   "outputs": [],
   "source": [
    "builder.cleanup()"
   ]
  }
 ],
 "metadata": {
  "kernelspec": {
   "display_name": "Python 3",
   "language": "python",
   "name": "python3"
  },
  "language_info": {
   "codemirror_mode": {
    "name": "ipython",
    "version": 3
   },
   "file_extension": ".py",
   "mimetype": "text/x-python",
   "name": "python",
   "nbconvert_exporter": "python",
   "pygments_lexer": "ipython3",
   "version": "3.7.6"
  }
 },
 "nbformat": 4,
 "nbformat_minor": 2
}
