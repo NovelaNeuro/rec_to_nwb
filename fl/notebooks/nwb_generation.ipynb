{
 "cells": [
  {
   "cell_type": "markdown",
   "metadata": {},
   "source": [
    "#  NWB File generation from raw data"
   ]
  },
  {
   "cell_type": "code",
   "execution_count": 6,
   "metadata": {},
   "outputs": [],
   "source": [
    "%reload_ext autoreload\n",
    "%autoreload 2"
   ]
  },
  {
   "cell_type": "code",
   "execution_count": 1,
   "metadata": {},
   "outputs": [],
   "source": [
    "import os\n",
    "import logging\n",
    "import sys\n",
    "sys.path.append(\"../../\")\n",
    "from fl.datamigration.nwb_file_builder import NWBFileBuilder\n",
    "from rec_to_binaries import extract_trodes_rec_file\n",
    "from fl.datamigration.raw_to_nwb_builder import RawToNWBBuilder\n",
    "from fl.datamigration.metadata.metadata_manager import MetadataManager\n"
   ]
  },
  {
   "cell_type": "markdown",
   "metadata": {},
   "source": [
    "## Current dir and file structure before running extraction"
   ]
  },
  {
   "cell_type": "code",
   "execution_count": 2,
   "metadata": {},
   "outputs": [
    {
     "name": "stdout",
     "output_type": "stream",
     "text": [
      "/Users/marcin/Novela/GitHub/fldatamigration/fl/notebooks\n"
     ]
    }
   ],
   "source": [
    "print(os.getcwd())\n"
   ]
  },
  {
   "cell_type": "markdown",
   "metadata": {},
   "source": [
    "## Setup your config parameters"
   ]
  },
  {
   "cell_type": "code",
   "execution_count": 3,
   "metadata": {},
   "outputs": [],
   "source": [
    "metadata = MetadataManager(\n",
    "    'metadata.yml',\n",
    "    ['probe1.yml',\n",
    "     'probe2.yml',\n",
    "     'probe3.yml'])\n",
    "print(metadata)\n",
    "\n"
   ]
  },
  {
   "cell_type": "markdown",
   "metadata": {},
   "source": [
    "# Processing initiation"
   ]
  },
  {
   "cell_type": "code",
   "execution_count": 11,
   "metadata": {},
   "outputs": [],
   "source": [
    "builder = RawToNWBBuilder(animal_name='beans',\n",
    "                                       data_path='../test/test_data/',\n",
    "                                       dates=['20190718'],\n",
    "                                       nwb_metadata=metadata,\n",
    "                                       )"
   ]
  },
  {
   "cell_type": "markdown",
   "metadata": {},
   "source": [
    "## Run processing and create nwb file"
   ]
  },
  {
   "cell_type": "code",
   "execution_count": 5,
   "metadata": {},
   "outputs": [
    {
     "name": "stderr",
     "output_type": "stream",
     "text": [
      "/Users/marcin/opt/anaconda3/envs/fldatamigration/lib/python3.7/site-packages/rec_to_binaries/trodes_data.py:1362: TrodesDataFormatWarning: TrodesDataFormatError('skipping rec file 20190718_beans_01_s1.rec for extracting, folder ../test/test_data/beans/preprocessing/20190718/20190718_beans_01_s1.DIO already exists and overwrite=False.') (thrown from /Users/marcin/opt/anaconda3/envs/fldatamigration/lib/python3.7/site-packages/rec_to_binaries/trodes_data.py:1303)\n",
      "  TrodesDataFormatWarning)\n",
      "/Users/marcin/opt/anaconda3/envs/fldatamigration/lib/python3.7/site-packages/rec_to_binaries/trodes_data.py:1362: TrodesDataFormatWarning: TrodesDataFormatError('skipping rec file 20190718_beans_01_s1.rec for extracting, folder ../test/test_data/beans/preprocessing/20190718/20190718_beans_01_s1.mda already exists and overwrite=False.') (thrown from /Users/marcin/opt/anaconda3/envs/fldatamigration/lib/python3.7/site-packages/rec_to_binaries/trodes_data.py:1303)\n",
      "  TrodesDataFormatWarning)\n",
      "/Users/marcin/opt/anaconda3/envs/fldatamigration/lib/python3.7/site-packages/rec_to_binaries/trodes_data.py:1362: TrodesDataFormatWarning: TrodesDataFormatError('skipping rec file 20190718_beans_01_s1.rec for extracting, folder ../test/test_data/beans/preprocessing/20190718/20190718_beans_01_s1.time already exists and overwrite=False.') (thrown from /Users/marcin/opt/anaconda3/envs/fldatamigration/lib/python3.7/site-packages/rec_to_binaries/trodes_data.py:1303)\n",
      "  TrodesDataFormatWarning)\n",
      "/Users/marcin/opt/anaconda3/envs/fldatamigration/lib/python3.7/site-packages/pynwb/file.py:691: UserWarning: Date is missing timezone information. Updating to local timezone.\n",
      "  warn(\"Date is missing timezone information. Updating to local timezone.\")\n",
      "/Users/marcin/opt/anaconda3/envs/fldatamigration/lib/python3.7/site-packages/rec_to_binaries/read_binaries.py:76: FutureWarning: Passing (type, 1) or '1type' as a synonym of type is deprecated; in a future version of numpy, it will be understood as (type, (1,)) / '(1,)type'.\n",
      "  return np.dtype(typearr)\n",
      "ERROR:root:Following key: 23206543 does not exist!'23206543'\n",
      "Traceback (most recent call last):\n",
      "  File \"../../src/datamigration/nwb_builder/nwb_builder_tools/binary_data.py\", line 103, in read_data\n",
      "    value = continuous_time_dict[key]\n",
      "KeyError: '23206543'\n",
      "ERROR:root:Following key: 23207135 does not exist!'23207135'\n",
      "Traceback (most recent call last):\n",
      "  File \"../../src/datamigration/nwb_builder/nwb_builder_tools/binary_data.py\", line 103, in read_data\n",
      "    value = continuous_time_dict[key]\n",
      "KeyError: '23207135'\n",
      "ERROR:root:Following key: 23206543 does not exist!'23206543'\n",
      "Traceback (most recent call last):\n",
      "  File \"../../src/datamigration/nwb_builder/nwb_builder_tools/binary_data.py\", line 103, in read_data\n",
      "    value = continuous_time_dict[key]\n",
      "KeyError: '23206543'\n",
      "ERROR:root:Following key: 23207135 does not exist!'23207135'\n",
      "Traceback (most recent call last):\n",
      "  File \"../../src/datamigration/nwb_builder/nwb_builder_tools/binary_data.py\", line 103, in read_data\n",
      "    value = continuous_time_dict[key]\n",
      "KeyError: '23207135'\n"
     ]
    },
    {
     "name": "stdout",
     "output_type": "stream",
     "text": [
      "root pynwb.file.NWBFile at 0x4928320400\n",
      "Fields:\n",
      "  acquisition: {\n",
      "    e-series <class 'pynwb.ecephys.ElectricalSeries'>\n",
      "  }\n",
      "  devices: {\n",
      "    0 <class 'src.datamigration.extension.probe.Probe'>,\n",
      "    1 <class 'src.datamigration.extension.probe.Probe'>\n",
      "  }\n",
      "  electrode_groups: {\n",
      "    electrode group 0 <class 'src.datamigration.extension.nwb_electrode_group.NwbElectrodeGroup'>,\n",
      "    electrode group 1 <class 'src.datamigration.extension.nwb_electrode_group.NwbElectrodeGroup'>,\n",
      "    ntrode 1 <class 'src.datamigration.extension.ntrode.NTrode'>,\n",
      "    ntrode 2 <class 'src.datamigration.extension.ntrode.NTrode'>,\n",
      "    ntrode 3 <class 'src.datamigration.extension.ntrode.NTrode'>,\n",
      "    ntrode 4 <class 'src.datamigration.extension.ntrode.NTrode'>,\n",
      "    ntrode 5 <class 'src.datamigration.extension.ntrode.NTrode'>,\n",
      "    ntrode 6 <class 'src.datamigration.extension.ntrode.NTrode'>,\n",
      "    ntrode 7 <class 'src.datamigration.extension.ntrode.NTrode'>,\n",
      "    ntrode 8 <class 'src.datamigration.extension.ntrode.NTrode'>\n",
      "  }\n",
      "  electrodes: electrodes <class 'hdmf.common.table.DynamicTable'>\n",
      "  experiment_description: Reinforcement learning\n",
      "  experimenter: Alison Comrie\n",
      "  file_create_date: [datetime.datetime(2020, 2, 3, 20, 35, 59, 964119, tzinfo=tzlocal())]\n",
      "  identifier: 67ed69a2-46bc-11ea-ab89-acde48001122\n",
      "  institution: University of California, San Francisco\n",
      "  lab: Loren Frank\n",
      "  processing: {\n",
      "    behavior <class 'pynwb.base.ProcessingModule'>\n",
      "  }\n",
      "  session_description: Reinforcement leaarning\n",
      "  session_start_time: 2019-07-18 20:15:30+02:00\n",
      "  subject: subject pynwb.file.Subject at 0x4917055312\n",
      "Fields:\n",
      "  description: Long Evans Rat\n",
      "  genotype: Wild Type\n",
      "  sex: Male\n",
      "  species: Rat\n",
      "  subject_id: Beans\n",
      "  weight: Unknown\n",
      "\n",
      "  timestamps_reference_time: 2019-07-18 20:15:30+02:00\n",
      "\n",
      "CPU times: user 4min 33s, sys: 17.2 s, total: 4min 51s\n",
      "Wall time: 4min 52s\n"
     ]
    }
   ],
   "source": [
    "%%time\n",
    "content = builder.build_nwb()\n",
    "print(content)\n",
    "#expected warnings from rec_to_binaries"
   ]
  },
  {
   "cell_type": "markdown",
   "metadata": {},
   "source": [
    "# Cleanup preprocessed data"
   ]
  },
  {
   "cell_type": "code",
   "execution_count": 22,
   "metadata": {},
   "outputs": [],
   "source": [
    "builder.cleanup()"
   ]
  },
  {
   "cell_type": "code",
   "execution_count": null,
   "metadata": {},
   "outputs": [],
   "source": []
  }
 ],
 "metadata": {
  "kernelspec": {
   "display_name": "Python 3",
   "language": "python",
   "name": "python3"
  },
  "language_info": {
   "codemirror_mode": {
    "name": "ipython",
    "version": 3
   },
   "file_extension": ".py",
   "mimetype": "text/x-python",
   "name": "python",
   "nbconvert_exporter": "python",
   "pygments_lexer": "ipython3",
   "version": "3.7.4"
  }
 },
 "nbformat": 4,
 "nbformat_minor": 2
}
